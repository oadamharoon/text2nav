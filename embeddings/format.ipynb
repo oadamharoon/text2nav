{
 "cells": [
  {
   "cell_type": "code",
   "execution_count": 1,
   "metadata": {},
   "outputs": [],
   "source": [
    "import pickle\n",
    "\n",
    "# Replace 'your_file.pkl' with the path to your pickle file\n",
    "with open('/work/mech-ai-scratch/shreyang/me592/text2nav/embeddings/data/replay_buffer_with_tasks.pkl', 'rb') as f:\n",
    "    data = pickle.load(f)"
   ]
  },
  {
   "cell_type": "code",
   "execution_count": 2,
   "metadata": {},
   "outputs": [
    {
     "name": "stdout",
     "output_type": "stream",
     "text": [
      "<class 'stable_baselines3.common.buffers.DictReplayBuffer'>\n"
     ]
    }
   ],
   "source": [
    "# Now 'data' holds your loaded object\n",
    "print(type(data))"
   ]
  },
  {
   "cell_type": "code",
   "execution_count": 3,
   "metadata": {},
   "outputs": [
    {
     "data": {
      "text/plain": [
       "((195, 512, 3, 256, 256), 195)"
      ]
     },
     "execution_count": 3,
     "metadata": {},
     "output_type": "execute_result"
    }
   ],
   "source": [
    "data.observations[\"rgb\"].shape, len(data.observations[\"tasks\"])"
   ]
  },
  {
   "cell_type": "code",
   "execution_count": 31,
   "metadata": {},
   "outputs": [
    {
     "data": {
      "text/plain": [
       "dict_keys(['goal_index', 'poses', 'rgb', 'tasks'])"
      ]
     },
     "execution_count": 31,
     "metadata": {},
     "output_type": "execute_result"
    }
   ],
   "source": [
    "data.observations.keys()"
   ]
  },
  {
   "cell_type": "code",
   "execution_count": null,
   "metadata": {},
   "outputs": [],
   "source": [
    "for episode_id in range(len(data.observations[\"tasks\"])):\n",
    "    episode = data.observations[\"tasks\"][episode_id]\n",
    "    for step_id in range(len(episode)):\n",
    "            steps = episode[step_id]\n",
    "            if len(steps)>0:\n",
    "                for task_id in range(len(steps)):\n",
    "                    print(episode[step_id][task_id][\"embedding\"].shape)"
   ]
  },
  {
   "cell_type": "code",
   "execution_count": 17,
   "metadata": {},
   "outputs": [
    {
     "data": {
      "text/plain": [
       "{'blue', 'green', 'red', 'yellow'}"
      ]
     },
     "execution_count": 17,
     "metadata": {},
     "output_type": "execute_result"
    }
   ],
   "source": [
    "# red, green blue, yellow, white\n",
    "\n",
    "color_index = {\n",
    "    \"red\": 0,\n",
    "    \"green\": 1,\n",
    "    \"blue\": 2,\n",
    "    \"yellow\": 3,\n",
    "    \"white\": 4\n",
    "}\n",
    "\n",
    "colors = []\n",
    "for episode_id in range(len(data.observations[\"tasks\"])):\n",
    "    episode = data.observations[\"tasks\"][episode_id]\n",
    "    for step_id in range(len(episode)):\n",
    "            steps = episode[step_id]\n",
    "            if len(steps)>0:\n",
    "                for task_id in range(len(steps)):\n",
    "                    colors.append(episode[step_id][task_id][\"colour\"])\n",
    "set(colors)"
   ]
  },
  {
   "cell_type": "code",
   "execution_count": null,
   "metadata": {},
   "outputs": [
    {
     "name": "stdout",
     "output_type": "stream",
     "text": [
      "(195, 512, 1152)\n"
     ]
    }
   ],
   "source": [
    "import numpy as np\n",
    "embedding_size = 1152\n",
    "\n",
    "color_index = {\n",
    "    \"red\": 0,\n",
    "    \"green\": 1,\n",
    "    \"blue\": 2,\n",
    "    \"yellow\": 3,\n",
    "    \"white\": 4\n",
    "}\n",
    "\n",
    "\n",
    "all_embeddings = []\n",
    "for batch_id in range(len(data.observations[\"tasks\"])):\n",
    "    batch_embeddings = []\n",
    "    goal_batch = data.observations[\"goal_index\"][batch_id]\n",
    "    task_batch = data.observations[\"tasks\"][batch_id]\n",
    "\n",
    "    for image_id, task_list in task_batch.items():\n",
    "        embedding = None\n",
    "        if len(task_list) > 0:\n",
    "            for task in task_list:\n",
    "                if color_index.get(task.get(\"colour\", None), None) == goal_batch[image_id][0]:\n",
    "                    embedding = task.get(\"embedding\", None)\n",
    "        if embedding is None:\n",
    "            embedding = np.zeros(embedding_size)\n",
    "        \n",
    "        batch_embeddings.append(embedding)\n",
    "\n",
    "    batch_embeddings = np.array(batch_embeddings)\n",
    "    all_embeddings.append(batch_embeddings)\n",
    "\n",
    "all_embeddings = np.array(all_embeddings)\n",
    "print(all_embeddings.shape)"
   ]
  },
  {
   "cell_type": "code",
   "execution_count": 32,
   "metadata": {},
   "outputs": [],
   "source": [
    "# Add the all_embeddings array to the observations\n",
    "data.observations['embeddings'] = all_embeddings"
   ]
  },
  {
   "cell_type": "code",
   "execution_count": 33,
   "metadata": {},
   "outputs": [],
   "source": [
    "del data.observations['tasks']"
   ]
  },
  {
   "cell_type": "code",
   "execution_count": 34,
   "metadata": {},
   "outputs": [],
   "source": [
    "with open('/work/mech-ai-scratch/shreyang/me592/text2nav/embeddings/data/replay_buffer_with_embeddings.pkl', 'wb') as f:\n",
    "    pickle.dump(data, f)"
   ]
  },
  {
   "cell_type": "code",
   "execution_count": 35,
   "metadata": {},
   "outputs": [],
   "source": [
    "import pickle\n",
    "\n",
    "# Replace 'your_file.pkl' with the path to your pickle file\n",
    "with open('/work/mech-ai-scratch/shreyang/me592/text2nav/embeddings/data/replay_buffer_with_embeddings.pkl', 'rb') as f:\n",
    "    data = pickle.load(f)"
   ]
  },
  {
   "cell_type": "code",
   "execution_count": 36,
   "metadata": {},
   "outputs": [
    {
     "data": {
      "text/plain": [
       "dict_keys(['goal_index', 'poses', 'rgb', 'embeddings'])"
      ]
     },
     "execution_count": 36,
     "metadata": {},
     "output_type": "execute_result"
    }
   ],
   "source": [
    "data.observations.keys()"
   ]
  },
  {
   "cell_type": "code",
   "execution_count": 37,
   "metadata": {},
   "outputs": [
    {
     "data": {
      "text/plain": [
       "(195, 512, 1152)"
      ]
     },
     "execution_count": 37,
     "metadata": {},
     "output_type": "execute_result"
    }
   ],
   "source": [
    "data.observations[\"embeddings\"].shape"
   ]
  },
  {
   "cell_type": "code",
   "execution_count": 44,
   "metadata": {},
   "outputs": [
    {
     "name": "stdout",
     "output_type": "stream",
     "text": [
      "24615\n"
     ]
    }
   ],
   "source": [
    "total_nonzero_rows = 0\n",
    "\n",
    "for embedding in data.observations[\"embeddings\"]:\n",
    "    arr = embedding\n",
    "    nonzero_rows = np.sum(np.any(arr != 0, axis=1))\n",
    "    total_nonzero_rows += nonzero_rows\n",
    "\n",
    "print(total_nonzero_rows)"
   ]
  },
  {
   "cell_type": "code",
   "execution_count": null,
   "metadata": {},
   "outputs": [],
   "source": []
  }
 ],
 "metadata": {
  "kernelspec": {
   "display_name": "Python 3 (ipykernel)",
   "language": "python",
   "name": "python3"
  },
  "language_info": {
   "codemirror_mode": {
    "name": "ipython",
    "version": 3
   },
   "file_extension": ".py",
   "mimetype": "text/x-python",
   "name": "python",
   "nbconvert_exporter": "python",
   "pygments_lexer": "ipython3",
   "version": "3.10.0"
  }
 },
 "nbformat": 4,
 "nbformat_minor": 2
}

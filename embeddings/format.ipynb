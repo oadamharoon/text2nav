{
 "cells": [
  {
   "cell_type": "code",
   "execution_count": 1,
   "metadata": {},
   "outputs": [],
   "source": [
    "import pickle\n",
    "import numpy as np\n",
    "\n",
    "# Replace 'your_file.pkl' with the path to your pickle file\n",
    "with open('/home/nitesh/workspace/offline_rl_test/replay_buffer_7.pkl', 'rb') as f:\n",
    "    data = pickle.load(f)\n"
   ]
  },
  {
   "cell_type": "code",
   "execution_count": 2,
   "metadata": {},
   "outputs": [],
   "source": [
    "import pandas as pd\n",
    "\n",
    "df = pd.DataFrame(data)"
   ]
  },
  {
   "cell_type": "code",
   "execution_count": 3,
   "metadata": {},
   "outputs": [
    {
     "data": {
      "text/html": [
       "<div>\n",
       "<style scoped>\n",
       "    .dataframe tbody tr th:only-of-type {\n",
       "        vertical-align: middle;\n",
       "    }\n",
       "\n",
       "    .dataframe tbody tr th {\n",
       "        vertical-align: top;\n",
       "    }\n",
       "\n",
       "    .dataframe thead th {\n",
       "        text-align: right;\n",
       "    }\n",
       "</style>\n",
       "<table border=\"1\" class=\"dataframe\">\n",
       "  <thead>\n",
       "    <tr style=\"text-align: right;\">\n",
       "      <th></th>\n",
       "      <th>0</th>\n",
       "      <th>1</th>\n",
       "      <th>2</th>\n",
       "      <th>3</th>\n",
       "      <th>4</th>\n",
       "      <th>5</th>\n",
       "    </tr>\n",
       "  </thead>\n",
       "  <tbody>\n",
       "    <tr>\n",
       "      <th>0</th>\n",
       "      <td>[[[tensor([0, 0, 0], dtype=torch.uint8), tenso...</td>\n",
       "      <td>[tensor(1, dtype=torch.int16)]</td>\n",
       "      <td>[[tensor(1.1751), tensor(20.6786)]]</td>\n",
       "      <td>[[tensor(-0.1708)]]</td>\n",
       "      <td>[[0]]</td>\n",
       "      <td>[[0]]</td>\n",
       "    </tr>\n",
       "    <tr>\n",
       "      <th>1</th>\n",
       "      <td>[[[tensor([0, 0, 0], dtype=torch.uint8), tenso...</td>\n",
       "      <td>[tensor(1, dtype=torch.int16)]</td>\n",
       "      <td>[[tensor(13.4320), tensor(41.2965)]]</td>\n",
       "      <td>[[tensor(-0.1705)]]</td>\n",
       "      <td>[[0]]</td>\n",
       "      <td>[[0]]</td>\n",
       "    </tr>\n",
       "    <tr>\n",
       "      <th>2</th>\n",
       "      <td>[[[tensor([0, 0, 0], dtype=torch.uint8), tenso...</td>\n",
       "      <td>[tensor(1, dtype=torch.int16)]</td>\n",
       "      <td>[[tensor(18.2958), tensor(38.3567)]]</td>\n",
       "      <td>[[tensor(-0.1700)]]</td>\n",
       "      <td>[[0]]</td>\n",
       "      <td>[[0]]</td>\n",
       "    </tr>\n",
       "    <tr>\n",
       "      <th>3</th>\n",
       "      <td>[[[tensor([0, 0, 0], dtype=torch.uint8), tenso...</td>\n",
       "      <td>[tensor(1, dtype=torch.int16)]</td>\n",
       "      <td>[[tensor(11.1235), tensor(51.8300)]]</td>\n",
       "      <td>[[tensor(-0.1694)]]</td>\n",
       "      <td>[[0]]</td>\n",
       "      <td>[[0]]</td>\n",
       "    </tr>\n",
       "    <tr>\n",
       "      <th>4</th>\n",
       "      <td>[[[tensor([0, 0, 0], dtype=torch.uint8), tenso...</td>\n",
       "      <td>[tensor(1, dtype=torch.int16)]</td>\n",
       "      <td>[[tensor(-3.2229), tensor(44.3432)]]</td>\n",
       "      <td>[[tensor(-0.1706)]]</td>\n",
       "      <td>[[0]]</td>\n",
       "      <td>[[0]]</td>\n",
       "    </tr>\n",
       "  </tbody>\n",
       "</table>\n",
       "</div>"
      ],
      "text/plain": [
       "                                                   0  \\\n",
       "0  [[[tensor([0, 0, 0], dtype=torch.uint8), tenso...   \n",
       "1  [[[tensor([0, 0, 0], dtype=torch.uint8), tenso...   \n",
       "2  [[[tensor([0, 0, 0], dtype=torch.uint8), tenso...   \n",
       "3  [[[tensor([0, 0, 0], dtype=torch.uint8), tenso...   \n",
       "4  [[[tensor([0, 0, 0], dtype=torch.uint8), tenso...   \n",
       "\n",
       "                                1                                     2  \\\n",
       "0  [tensor(1, dtype=torch.int16)]   [[tensor(1.1751), tensor(20.6786)]]   \n",
       "1  [tensor(1, dtype=torch.int16)]  [[tensor(13.4320), tensor(41.2965)]]   \n",
       "2  [tensor(1, dtype=torch.int16)]  [[tensor(18.2958), tensor(38.3567)]]   \n",
       "3  [tensor(1, dtype=torch.int16)]  [[tensor(11.1235), tensor(51.8300)]]   \n",
       "4  [tensor(1, dtype=torch.int16)]  [[tensor(-3.2229), tensor(44.3432)]]   \n",
       "\n",
       "                     3      4      5  \n",
       "0  [[tensor(-0.1708)]]  [[0]]  [[0]]  \n",
       "1  [[tensor(-0.1705)]]  [[0]]  [[0]]  \n",
       "2  [[tensor(-0.1700)]]  [[0]]  [[0]]  \n",
       "3  [[tensor(-0.1694)]]  [[0]]  [[0]]  \n",
       "4  [[tensor(-0.1706)]]  [[0]]  [[0]]  "
      ]
     },
     "execution_count": 3,
     "metadata": {},
     "output_type": "execute_result"
    }
   ],
   "source": [
    "df.head()"
   ]
  },
  {
   "cell_type": "code",
   "execution_count": 4,
   "metadata": {},
   "outputs": [],
   "source": [
    "observations = df[0]"
   ]
  },
  {
   "cell_type": "code",
   "execution_count": null,
   "metadata": {},
   "outputs": [],
   "source": []
  },
  {
   "cell_type": "code",
   "execution_count": 9,
   "metadata": {},
   "outputs": [],
   "source": [
    "rgb = np.array([observation for observation in observations])"
   ]
  },
  {
   "cell_type": "code",
   "execution_count": 18,
   "metadata": {},
   "outputs": [
    {
     "data": {
      "text/plain": [
       "(100000, 1, 3, 256, 256)"
      ]
     },
     "execution_count": 18,
     "metadata": {},
     "output_type": "execute_result"
    }
   ],
   "source": [
    "rgb.transpose(0, 1, 4, 3, 2).shape"
   ]
  },
  {
   "cell_type": "code",
   "execution_count": 12,
   "metadata": {},
   "outputs": [],
   "source": [
    "goal_indices = np.array([observation for observation in df[1]])"
   ]
  },
  {
   "cell_type": "code",
   "execution_count": 20,
   "metadata": {},
   "outputs": [
    {
     "data": {
      "text/plain": [
       "(100000, 1, 1)"
      ]
     },
     "execution_count": 20,
     "metadata": {},
     "output_type": "execute_result"
    }
   ],
   "source": [
    "np.expand_dims(goal_indices, axis=1).shape"
   ]
  },
  {
   "cell_type": "code",
   "execution_count": 13,
   "metadata": {},
   "outputs": [
    {
     "data": {
      "text/plain": [
       "array([1], dtype=int16)"
      ]
     },
     "execution_count": 13,
     "metadata": {},
     "output_type": "execute_result"
    }
   ],
   "source": [
    "goal_indices[0]"
   ]
  },
  {
   "cell_type": "code",
   "execution_count": 14,
   "metadata": {},
   "outputs": [],
   "source": [
    "actions = np.array([observation for observation in df[2]])\n",
    "rewards = np.array([observation for observation in df[3]])\n",
    "dones = np.array([observation for observation in df[4]])\n",
    "truncations = np.array([observation for observation in df[5]])"
   ]
  },
  {
   "cell_type": "code",
   "execution_count": 21,
   "metadata": {},
   "outputs": [
    {
     "data": {
      "text/plain": [
       "((100000, 1, 2), (100000, 1, 1), (100000, 1, 1), (100000, 1, 1))"
      ]
     },
     "execution_count": 21,
     "metadata": {},
     "output_type": "execute_result"
    }
   ],
   "source": [
    "actions.shape, rewards.shape, dones.shape, truncations.shape"
   ]
  },
  {
   "cell_type": "code",
   "execution_count": 7,
   "metadata": {},
   "outputs": [],
   "source": [
    "obs_numpy = observations.to_numpy()"
   ]
  },
  {
   "cell_type": "code",
   "execution_count": null,
   "metadata": {},
   "outputs": [],
   "source": [
    "obs_numpy"
   ]
  },
  {
   "cell_type": "code",
   "execution_count": null,
   "metadata": {},
   "outputs": [],
   "source": [
    "# Extract 'rgb' from the first column (observations)\n",
    "# Step 1: Extract and convert each 'rgb' (which is a list of lists of tensors) to NumPy arrays\n",
    "rgb_images = df[0].apply(lambda obs: np.stack([t.numpy() for t in inner], axis=0) for inner in observations['rgb'])\n",
    "\n",
    "# Step 2: Now each element in rgb_images is a 3D array — convert the list to a full NumPy array\n",
    "rgb_images = np.array([np.stack(obs, axis=0) for obs in rgb_images])\n",
    "\n",
    "\n",
    "# # Extract actions (assuming structure: [[tensor(x), tensor(y)]])\n",
    "# actions = df[1].apply(lambda a: [t.item() for t in a[0]])\n",
    "\n",
    "# # Extract rewards (assuming structure: [[tensor(x)]])\n",
    "# rewards = df[2].apply(lambda r: r[0][0].item())\n",
    "\n",
    "# # Extract dones (assuming structure: [[0]] or [[1]])\n",
    "# dones = df[3].apply(lambda d: d[0][0])\n",
    "\n",
    "# # Extract truncated flags (assuming structure: [[0]] or [[1]])\n",
    "# truncated = df[4].apply(lambda t: t[0][0])"
   ]
  },
  {
   "cell_type": "code",
   "execution_count": null,
   "metadata": {},
   "outputs": [
    {
     "data": {
      "text/plain": [
       "(100000,)"
      ]
     },
     "execution_count": 14,
     "metadata": {},
     "output_type": "execute_result"
    }
   ],
   "source": [
    "np.array(rgb_images[0]).shape"
   ]
  },
  {
   "cell_type": "code",
   "execution_count": null,
   "metadata": {},
   "outputs": [],
   "source": [
    "for experience in buffer.buffer:\n",
    "    # Assuming each experience is a tuple of (state, action, reward, next_state, done)\n",
    "    state, action, reward, next_state, done = experience\n",
    "\n",
    "    # Print the state and action\n",
    "    print(\"State:\", state)\n",
    "    print(\"Action:\", action)\n",
    "    print(\"Reward:\", reward)\n",
    "    print(\"Next State:\", next_state)\n",
    "    print(\"Done:\", done)\n",
    "    print()"
   ]
  },
  {
   "cell_type": "code",
   "execution_count": null,
   "metadata": {},
   "outputs": [],
   "source": [
    "observations = np.array([experience[0] for experience in buffer.buffer])\n",
    "actions = np.array([experience[1].cpu() for experience in buffer.buffer])\n",
    "rewards = np.array([experience[2].cpu() for experience in buffer.buffer])\n",
    "next_states = np.array([experience[3] for experience in buffer.buffer])\n",
    "dones = np.array([experience[4].cpu() for experience in buffer.buffer])"
   ]
  },
  {
   "cell_type": "code",
   "execution_count": null,
   "metadata": {},
   "outputs": [],
   "source": [
    "print(\"Observations shape:\", observations.shape)\n",
    "print(\"Actions shape:\", actions.shape)\n",
    "print(\"Rewards shape:\", rewards.shape)\n",
    "print(\"Next States shape:\", next_states.shape)\n",
    "print(\"Dones shape:\", dones.shape)\n"
   ]
  },
  {
   "cell_type": "code",
   "execution_count": null,
   "metadata": {},
   "outputs": [],
   "source": [
    "\n",
    "rgb_observations = np.array([obs['rgb'] for obs in observations])\n"
   ]
  },
  {
   "cell_type": "code",
   "execution_count": null,
   "metadata": {},
   "outputs": [],
   "source": [
    "goal_index_obs = np.array([obs['goal_index'] for obs in observations])\n",
    "goal_index_obs = np.expand_dims(goal_index_obs, axis=-1)"
   ]
  },
  {
   "cell_type": "code",
   "execution_count": null,
   "metadata": {},
   "outputs": [],
   "source": [
    "rgb_observations.shape, goal_index_obs.shape"
   ]
  },
  {
   "cell_type": "code",
   "execution_count": null,
   "metadata": {},
   "outputs": [],
   "source": [
    "for episode_id in range(len(data.observations[\"tasks\"])):\n",
    "    episode = data.observations[\"tasks\"][episode_id]\n",
    "    for step_id in range(len(episode)):\n",
    "            steps = episode[step_id]\n",
    "            if len(steps)>0:\n",
    "                for task_id in range(len(steps)):\n",
    "                    print(episode[step_id][task_id][\"embedding\"].shape)"
   ]
  },
  {
   "cell_type": "code",
   "execution_count": null,
   "metadata": {},
   "outputs": [],
   "source": [
    "# red, green blue, yellow, white\n",
    "\n",
    "color_index = {\n",
    "    \"red\": 0,\n",
    "    \"green\": 1,\n",
    "    \"blue\": 2,\n",
    "    \"yellow\": 3,\n",
    "    \"white\": 4\n",
    "}\n",
    "\n",
    "colors = []\n",
    "for episode_id in range(len(data.observations[\"tasks\"])):\n",
    "    episode = data.observations[\"tasks\"][episode_id]\n",
    "    for step_id in range(len(episode)):\n",
    "            steps = episode[step_id]\n",
    "            if len(steps)>0:\n",
    "                for task_id in range(len(steps)):\n",
    "                    colors.append(episode[step_id][task_id][\"colour\"])\n",
    "set(colors)"
   ]
  },
  {
   "cell_type": "code",
   "execution_count": null,
   "metadata": {},
   "outputs": [],
   "source": [
    "import numpy as np\n",
    "embedding_size = 1152\n",
    "\n",
    "color_index = {\n",
    "    \"red\": 0,\n",
    "    \"green\": 1,\n",
    "    \"blue\": 2,\n",
    "    \"yellow\": 3,\n",
    "    \"white\": 4\n",
    "}\n",
    "\n",
    "\n",
    "all_embeddings = []\n",
    "for batch_id in range(len(data.observations[\"tasks\"])):\n",
    "    batch_embeddings = []\n",
    "    goal_batch = data.observations[\"goal_index\"][batch_id]\n",
    "    task_batch = data.observations[\"tasks\"][batch_id]\n",
    "\n",
    "    for image_id, task_list in task_batch.items():\n",
    "        embedding = None\n",
    "        if len(task_list) > 0:\n",
    "            for task in task_list:\n",
    "                if color_index.get(task.get(\"colour\", None), None) == goal_batch[image_id][0]:\n",
    "                    embedding = task.get(\"embedding\", None)\n",
    "        if embedding is None:\n",
    "            embedding = np.zeros(embedding_size)\n",
    "        \n",
    "        batch_embeddings.append(embedding)\n",
    "\n",
    "    batch_embeddings = np.array(batch_embeddings)\n",
    "    all_embeddings.append(batch_embeddings)\n",
    "\n",
    "all_embeddings = np.array(all_embeddings)\n",
    "print(all_embeddings.shape)"
   ]
  },
  {
   "cell_type": "code",
   "execution_count": null,
   "metadata": {},
   "outputs": [],
   "source": [
    "# Add the all_embeddings array to the observations\n",
    "data.observations['embeddings'] = all_embeddings"
   ]
  },
  {
   "cell_type": "code",
   "execution_count": null,
   "metadata": {},
   "outputs": [],
   "source": [
    "del data.observations['tasks']"
   ]
  },
  {
   "cell_type": "code",
   "execution_count": null,
   "metadata": {},
   "outputs": [],
   "source": [
    "with open('/work/mech-ai-scratch/shreyang/me592/text2nav/embeddings/data/replay_buffer_with_embeddings.pkl', 'wb') as f:\n",
    "    pickle.dump(data, f)"
   ]
  },
  {
   "cell_type": "code",
   "execution_count": null,
   "metadata": {},
   "outputs": [],
   "source": [
    "import pickle\n",
    "\n",
    "# Replace 'your_file.pkl' with the path to your pickle file\n",
    "with open('/work/mech-ai-scratch/shreyang/me592/text2nav/embeddings/data/replay_buffer_with_embeddings.pkl', 'rb') as f:\n",
    "    data = pickle.load(f)"
   ]
  },
  {
   "cell_type": "code",
   "execution_count": null,
   "metadata": {},
   "outputs": [],
   "source": [
    "data.observations.keys()"
   ]
  },
  {
   "cell_type": "code",
   "execution_count": null,
   "metadata": {},
   "outputs": [],
   "source": [
    "data.observations[\"embeddings\"].shape"
   ]
  },
  {
   "cell_type": "code",
   "execution_count": null,
   "metadata": {},
   "outputs": [],
   "source": [
    "total_nonzero_rows = 0\n",
    "\n",
    "for embedding in data.observations[\"embeddings\"]:\n",
    "    arr = embedding\n",
    "    nonzero_rows = np.sum(np.any(arr != 0, axis=1))\n",
    "    total_nonzero_rows += nonzero_rows\n",
    "\n",
    "print(total_nonzero_rows)"
   ]
  },
  {
   "cell_type": "code",
   "execution_count": null,
   "metadata": {},
   "outputs": [],
   "source": []
  }
 ],
 "metadata": {
  "kernelspec": {
   "display_name": "venv",
   "language": "python",
   "name": "python3"
  },
  "language_info": {
   "codemirror_mode": {
    "name": "ipython",
    "version": 3
   },
   "file_extension": ".py",
   "mimetype": "text/x-python",
   "name": "python",
   "nbconvert_exporter": "python",
   "pygments_lexer": "ipython3",
   "version": "3.10.12"
  }
 },
 "nbformat": 4,
 "nbformat_minor": 2
}

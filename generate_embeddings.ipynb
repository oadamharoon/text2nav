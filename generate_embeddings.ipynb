{
 "cells": [
  {
   "cell_type": "code",
   "execution_count": 2,
   "id": "0aba537b",
   "metadata": {},
   "outputs": [],
   "source": [
    "import numpy as np\n",
    "import pickle\n",
    "from pathlib import Path\n",
    "import torch"
   ]
  },
  {
   "cell_type": "code",
   "execution_count": 3,
   "id": "4d277531",
   "metadata": {},
   "outputs": [],
   "source": [
    "INPUT_PKL  = Path(\"/work/mech-ai-scratch/nitesh/workspace/text2nav/buffer_with_orientations.pkl\")\n",
    "OUTPUT_PKL = INPUT_PKL.parent / \"replay_buffer_with_embeddings_5.pkl\"\n"
   ]
  },
  {
   "cell_type": "code",
   "execution_count": null,
   "id": "251c5491",
   "metadata": {},
   "outputs": [
    {
     "name": "stdout",
     "output_type": "stream",
     "text": [
      "Traceback (most recent call last):\n",
      "  File \"/work/mech-ai-scratch/nitesh/envs/envs/dpc_env/bin/pip\", line 10, in <module>\n",
      "    sys.exit(main())\n",
      "             ^^^^^^\n",
      "  File \"/work/mech-ai-scratch/nitesh/envs/envs/dpc_env/lib/python3.11/site-packages/pip/_internal/cli/main.py\", line 78, in main\n",
      "    command = create_command(cmd_name, isolated=(\"--isolated\" in cmd_args))\n",
      "              ^^^^^^^^^^^^^^^^^^^^^^^^^^^^^^^^^^^^^^^^^^^^^^^^^^^^^^^^^^^^^\n",
      "  File \"/work/mech-ai-scratch/nitesh/envs/envs/dpc_env/lib/python3.11/site-packages/pip/_internal/commands/__init__.py\", line 114, in create_command\n",
      "    module = importlib.import_module(module_path)\n",
      "             ^^^^^^^^^^^^^^^^^^^^^^^^^^^^^^^^^^^^\n",
      "  File \"/work/mech-ai-scratch/nitesh/envs/envs/dpc_env/lib/python3.11/importlib/__init__.py\", line 126, in import_module\n",
      "    return _bootstrap._gcd_import(name[level:], package, level)\n",
      "           ^^^^^^^^^^^^^^^^^^^^^^^^^^^^^^^^^^^^^^^^^^^^^^^^^^^^\n",
      "  File \"<frozen importlib._bootstrap>\", line 1204, in _gcd_import\n",
      "  File \"<frozen importlib._bootstrap>\", line 1176, in _find_and_load\n",
      "  File \"<frozen importlib._bootstrap>\", line 1147, in _find_and_load_unlocked\n",
      "  File \"<frozen importlib._bootstrap>\", line 690, in _load_unlocked\n",
      "  File \"<frozen importlib._bootstrap_external>\", line 940, in exec_module\n",
      "  File \"<frozen importlib._bootstrap>\", line 241, in _call_with_frames_removed\n",
      "  File \"/work/mech-ai-scratch/nitesh/envs/envs/dpc_env/lib/python3.11/site-packages/pip/_internal/commands/install.py\", line 19, in <module>\n",
      "    import pip._internal.self_outdated_check  # noqa: F401\n",
      "    ^^^^^^^^^^^^^^^^^^^^^^^^^^^^^^^^^^^^^^^^\n",
      "  File \"/work/mech-ai-scratch/nitesh/envs/envs/dpc_env/lib/python3.11/site-packages/pip/_internal/self_outdated_check.py\", line 18, in <module>\n",
      "^C\n",
      "  File \"/work/mech-ai-scratch/nitesh/envs/envs/dpc_env/lib/python3.11/site-packages/pip/_internal/index/collector.py\", line 31, in <module>\n",
      "    from pip._vendor import requests\n",
      "  File \"/work/mech-ai-scratch/nitesh/envs/envs/dpc_env/lib/python3.11/site-packages/pip/_vendor/requests/__init__.py\", line 43, in <module>\n",
      "    from pip._vendor import urllib3\n",
      "  File \"/work/mech-ai-scratch/nitesh/envs/envs/dpc_env/lib/python3.11/site-packages/pip/_vendor/urllib3/__init__.py\", line 11, in <module>\n",
      "    from . import exceptions\n",
      "  File \"/work/mech-ai-scratch/nitesh/envs/envs/dpc_env/lib/python3.11/site-packages/pip/_vendor/urllib3/exceptions.py\", line 3, in <module>\n",
      "    from .packages.six.moves.http_client import IncompleteRead as httplib_IncompleteRead\n",
      "  File \"<frozen importlib._bootstrap>\", line 1176, in _find_and_load\n",
      "  File \"<frozen importlib._bootstrap>\", line 1147, in _find_and_load_unlocked\n",
      "  File \"<frozen importlib._bootstrap>\", line 690, in _load_unlocked\n",
      "  File \"<frozen importlib._bootstrap_external>\", line 936, in exec_module\n",
      "  File \"<frozen importlib._bootstrap_external>\", line 1032, in get_code\n",
      "  File \"<frozen importlib._bootstrap_external>\", line 1131, in get_data\n",
      "KeyboardInterrupt\n"
     ]
    }
   ],
   "source": [
    "!pip install numpy==1.26.4\n",
    "from transformers import SiglipProcessor, SiglipModel\n",
    "\n",
    "class SigLIPMatcher:\n",
    "    def __init__(self, model_name=\"google/siglip-so400m-patch14-384\", device=None):\n",
    "        self.device = device or (\"cuda\" if torch.cuda.is_available() else \"cpu\")\n",
    "        self.processor = SiglipProcessor.from_pretrained(model_name)\n",
    "        self.model = SiglipModel.from_pretrained(model_name).to(self.device).eval()\n",
    "\n",
    "    def _l2(self, x):\n",
    "        return x / x.norm(dim=-1, keepdim=True).clamp(min=1e-6)\n",
    "\n",
    "    @torch.no_grad()\n",
    "    def get_joint_embeddings(self, images, prompts):\n",
    "        img_inp = self.processor(images=images, return_tensors=\"pt\").to(self.device)\n",
    "        img_feat = self._l2(self.model.get_image_features(**img_inp))\n",
    "        txt_inp = self.processor(text=prompts, return_tensors=\"pt\", padding=True).to(self.device)\n",
    "        txt_feat = self._l2(self.model.get_text_features(**txt_inp))\n",
    "        joint = self._l2(img_feat + txt_feat)\n",
    "        return joint"
   ]
  },
  {
   "cell_type": "code",
   "execution_count": null,
   "id": "a9822ec4",
   "metadata": {},
   "outputs": [],
   "source": [
    "class EmbeddingPipeline:\n",
    "    def __init__(self):\n",
    "        self.matcher = SigLIPMatcher()\n",
    "\n",
    "    def generate(self, image: torch.tensor, prompts):\n",
    "        \"\"\"\n",
    "        Generate joint embeddings for the given image and goal index.\n",
    "        Args:\n",
    "            image (torch.tensor): Input image tensor. (N, 3, 256, 256)\n",
    "            goal_index (torch.tensor): Index of the goal color.\n",
    "        Returns:\n",
    "            embeddings (torch.tensor): Tensor of joint embeddings.\n",
    "        \"\"\"\n",
    "        # prompts = [f\"Move towards {INDEX_COLOR[int(idx)]} ball\" for idx in goal_index]\n",
    "        embeddings = self.matcher.get_joint_embeddings(image, prompts)\n",
    "        return embeddings"
   ]
  },
  {
   "cell_type": "code",
   "execution_count": null,
   "id": "94fe9a09",
   "metadata": {},
   "outputs": [],
   "source": [
    "# !pip install -U numpy\n",
    "import pickle\n",
    "with open(INPUT_PKL, \"rb\") as f:\n",
    "    buffer = pickle.load(f)"
   ]
  },
  {
   "cell_type": "code",
   "execution_count": null,
   "id": "08af19d7",
   "metadata": {},
   "outputs": [],
   "source": [
    "replay_buffer = buffer\n",
    "rgbs = np.array([item[0] for item in replay_buffer])\n",
    "goal_indices = np.array([item[1] for item in replay_buffer])\n",
    "angles = np.array([item[2] for item in replay_buffer])\n",
    "actions = np.array([item[3] for item in replay_buffer])\n",
    "rewards = np.array([item[4] for item in replay_buffer])\n",
    "dones = np.array([item[5] for item in replay_buffer])\n",
    "truncateds = np.array([item[6] for item in replay_buffer])"
   ]
  },
  {
   "cell_type": "code",
   "execution_count": null,
   "id": "bf52482f",
   "metadata": {},
   "outputs": [],
   "source": [
    "def generate_relative_prompts(y, goal_index, INDEX_COLOR, y_thresh=0.2, base=\"Move toward the ball.\"):\n",
    "    \"\"\"\n",
    "    goal_vec_robot: (B, 3) tensor, goal vector in robot frame\n",
    "    y_thresh: float, threshold for deciding clear left/right\n",
    "    Returns: List of strings (prompts)\n",
    "    \"\"\"\n",
    "    prompts = []\n",
    "\n",
    "    for i in range(len(y)):\n",
    "        if y[i] > y_thresh:\n",
    "            prompts.append(f\"The target is {INDEX_COLOR[int(goal_index[i])]} ball which is to your left. {base}\")\n",
    "        elif y[i] < -y_thresh:\n",
    "            prompts.append(f\"The target is {INDEX_COLOR[int(goal_index[i])]} ball which is to your right. {base}\")\n",
    "        else:\n",
    "            prompts.append(f\"The target is {INDEX_COLOR[int(goal_index[i])]} ball which is straight ahead. {base}\")\n",
    "    \n",
    "    return prompts"
   ]
  },
  {
   "cell_type": "code",
   "execution_count": null,
   "id": "5a936193",
   "metadata": {},
   "outputs": [],
   "source": [
    "rgbs[0].shape, goal_indices[0].shape, angles[0].shape"
   ]
  },
  {
   "cell_type": "code",
   "execution_count": null,
   "id": "81fec3db",
   "metadata": {},
   "outputs": [],
   "source": [
    "COLOR_INDEX = {\n",
    "        \"red\": 0,\n",
    "        \"green\": 1,\n",
    "        \"blue\": 2,\n",
    "        \"yellow\": 3,\n",
    "        \"pink\": 4\n",
    "        }\n",
    "INDEX_COLOR = {v: k for k, v in COLOR_INDEX.items()}"
   ]
  },
  {
   "cell_type": "code",
   "execution_count": null,
   "id": "6db29d52",
   "metadata": {},
   "outputs": [],
   "source": [
    "prompts = generate_relative_prompts(angles[0], goal_indices[0], INDEX_COLOR=INDEX_COLOR)"
   ]
  },
  {
   "cell_type": "code",
   "execution_count": null,
   "id": "6f67e774",
   "metadata": {},
   "outputs": [],
   "source": [
    "embedding_pipeline = EmbeddingPipeline()"
   ]
  },
  {
   "cell_type": "code",
   "execution_count": null,
   "id": "829c4fcc",
   "metadata": {},
   "outputs": [],
   "source": [
    "from tqdm import tqdm\n",
    "\n",
    "# embeddings_buffer = []\n",
    "# for i in tqdm(range(len(rgbs)), desc=\"Generating embeddings\"):\n",
    "#     prompts = generate_relative_prompts(angles[i], goal_indices[i], INDEX_COLOR=INDEX_COLOR)\n",
    "#     embeddings = embedding_pipeline.generate(rgbs[i], prompts)\n",
    "#     embeddings_buffer.append(embeddings.cpu().numpy())\n"
   ]
  },
  {
   "cell_type": "code",
   "execution_count": null,
   "id": "0b59f6b1",
   "metadata": {},
   "outputs": [],
   "source": [
    "from concurrent.futures import ThreadPoolExecutor, as_completed"
   ]
  },
  {
   "cell_type": "code",
   "execution_count": null,
   "id": "40cbda0d",
   "metadata": {},
   "outputs": [],
   "source": [
    "def thread_worker(i):\n",
    "    rgb = rgbs[i]\n",
    "    angle = angles[i]\n",
    "    goal_index = goal_indices[i]\n",
    "    prompts = generate_relative_prompts(angle, goal_index, INDEX_COLOR=INDEX_COLOR)\n",
    "    embedding = embedding_pipeline.generate(rgb, prompts)\n",
    "    return embedding.cpu().numpy()"
   ]
  },
  {
   "cell_type": "code",
   "execution_count": null,
   "id": "7b55bc87",
   "metadata": {},
   "outputs": [],
   "source": [
    "embeddings_buffer = []\n",
    "\n",
    "with ThreadPoolExecutor(max_workers=8) as executor:\n",
    "    futures = [executor.submit(thread_worker, i) for i in range(len(rgbs))]\n",
    "\n",
    "    for future in tqdm(as_completed(futures), total=len(futures), desc=\"Embedding (threads)\"):\n",
    "        embeddings_buffer.append(future.result())"
   ]
  },
  {
   "cell_type": "code",
   "execution_count": null,
   "id": "3670b48b",
   "metadata": {},
   "outputs": [],
   "source": [
    "# Also add actions, rewards, dones, truncateds\n",
    "embeddings_buffer = np.array(embeddings_buffer)\n",
    "replay_buffer_with_embeddings = []\n",
    "for i in range(len(rgbs)):\n",
    "    replay_buffer_with_embeddings.append((embeddings_buffer[i], actions[i], rewards[i], dones[i], truncateds[i]))"
   ]
  },
  {
   "cell_type": "code",
   "execution_count": null,
   "id": "87fe0b08",
   "metadata": {},
   "outputs": [],
   "source": [
    "# Save the embeddings to a new pickle file\n",
    "with open(\"/work/mech-ai-scratch/nitesh/workspace/text2nav/embeddings_buffer.pkl\", \"wb\") as f:\n",
    "    pickle.dump(replay_buffer_with_embeddings, f)"
   ]
  },
  {
   "cell_type": "code",
   "execution_count": null,
   "id": "cca17dfc",
   "metadata": {},
   "outputs": [],
   "source": [
    "# !pip install numpy==1.26.4\n",
    "import pickle\n",
    "import numpy as np\n",
    "with open(\"/work/mech-ai-scratch/nitesh/workspace/text2nav/embeddings_buffer.pkl\", \"rb\") as f:\n",
    "    replay_buffer_with_embeddings = pickle.load(f)"
   ]
  },
  {
   "cell_type": "code",
   "execution_count": null,
   "id": "c9d8af5c",
   "metadata": {},
   "outputs": [],
   "source": [
    "len(replay_buffer_with_embeddings)"
   ]
  },
  {
   "cell_type": "code",
   "execution_count": null,
   "id": "4be59009",
   "metadata": {},
   "outputs": [],
   "source": [
    "embedds = np.array([item[0] for item in replay_buffer_with_embeddings])\n",
    "actions = np.array([item[1] for item in replay_buffer_with_embeddings])\n",
    "rewards = np.array([item[2] for item in replay_buffer_with_embeddings])\n",
    "dones = np.array([item[3] for item in replay_buffer_with_embeddings])\n",
    "truncateds = np.array([item[4] for item in replay_buffer_with_embeddings])\n",
    "embedds.shape, actions.shape, rewards.shape, dones.shape, truncateds.shape"
   ]
  },
  {
   "cell_type": "code",
   "execution_count": null,
   "id": "eb9f5cf0",
   "metadata": {},
   "outputs": [],
   "source": [
    "done_mask = dones[:, 0, :] > 0\n",
    "truncated_mask = truncateds[:, 0, :] > 0\n",
    "\n",
    "# Element-wise OR\n",
    "final_mask = np.logical_or(done_mask, truncated_mask)\n",
    "\n",
    "# Get the indices where it's True\n",
    "indices = np.where(final_mask)[0]\n",
    "\n",
    "print(indices)\n"
   ]
  },
  {
   "cell_type": "code",
   "execution_count": null,
   "id": "8e653717",
   "metadata": {},
   "outputs": [],
   "source": [
    "embedds_sliced = []\n",
    "actions_sliced = []\n",
    "rewards_sliced = []\n",
    "dones_sliced = []\n",
    "truncateds_sliced = []\n",
    "for i in range(embedds.shape[1]):\n",
    "    done_mask = dones[:, 0, :] > 0\n",
    "    truncated_mask = truncateds[:, 0, :] > 0\n",
    "\n",
    "    # Element-wise OR\n",
    "    final_mask = np.logical_or(done_mask, truncated_mask)\n",
    "\n",
    "    # Get the indices where it's True\n",
    "    indices = np.where(final_mask)[0]\n",
    "    last_index = indices[-1]+1\n",
    "    embedds_sliced.append(embedds[:last_index, i, :])\n",
    "    actions_sliced.append(actions[:last_index, i, :])\n",
    "    rewards_sliced.append(rewards[:last_index, i, :])\n",
    "    dones_sliced.append(dones[:last_index, i, :])\n",
    "    truncateds_sliced.append(truncateds[:last_index, i, :])\n",
    "\n",
    "\n",
    "embedds_sliced = np.vstack(embedds_sliced)\n",
    "actions_sliced = np.vstack(actions_sliced)\n",
    "rewards_sliced = np.vstack(rewards_sliced)\n",
    "dones_sliced = np.vstack(dones_sliced)\n",
    "truncateds_sliced = np.vstack(truncateds_sliced)\n",
    "embedds_sliced.shape, actions_sliced.shape, rewards_sliced.shape, dones_sliced.shape, truncateds_sliced.shape\n"
   ]
  },
  {
   "cell_type": "code",
   "execution_count": null,
   "id": "044274cf",
   "metadata": {},
   "outputs": [
    {
     "ename": "KeyboardInterrupt",
     "evalue": "",
     "output_type": "error",
     "traceback": [
      "\u001b[31m---------------------------------------------------------------------------\u001b[39m",
      "\u001b[31mKeyboardInterrupt\u001b[39m                         Traceback (most recent call last)",
      "\u001b[36mCell\u001b[39m\u001b[36m \u001b[39m\u001b[32mIn[1]\u001b[39m\u001b[32m, line 1\u001b[39m\n\u001b[32m----> \u001b[39m\u001b[32m1\u001b[39m \u001b[38;5;28;01mimport\u001b[39;00m\u001b[38;5;250m \u001b[39m\u001b[34;01md3rlpy\u001b[39;00m\n",
      "\u001b[36mFile \u001b[39m\u001b[32m/work/mech-ai-scratch/nitesh/envs/envs/dpc_env/lib/python3.11/site-packages/d3rlpy/__init__.py:8\u001b[39m\n\u001b[32m      5\u001b[39m \u001b[38;5;28;01mimport\u001b[39;00m\u001b[38;5;250m \u001b[39m\u001b[34;01mnumpy\u001b[39;00m\u001b[38;5;250m \u001b[39m\u001b[38;5;28;01mas\u001b[39;00m\u001b[38;5;250m \u001b[39m\u001b[34;01mnp\u001b[39;00m\n\u001b[32m      6\u001b[39m \u001b[38;5;28;01mimport\u001b[39;00m\u001b[38;5;250m \u001b[39m\u001b[34;01mtorch\u001b[39;00m\n\u001b[32m----> \u001b[39m\u001b[32m8\u001b[39m \u001b[38;5;28;01mfrom\u001b[39;00m\u001b[38;5;250m \u001b[39m\u001b[34;01m.\u001b[39;00m\u001b[38;5;250m \u001b[39m\u001b[38;5;28;01mimport\u001b[39;00m (\n\u001b[32m      9\u001b[39m     algos,\n\u001b[32m     10\u001b[39m     dataset,\n\u001b[32m     11\u001b[39m     datasets,\n\u001b[32m     12\u001b[39m     distributed,\n\u001b[32m     13\u001b[39m     envs,\n\u001b[32m     14\u001b[39m     logging,\n\u001b[32m     15\u001b[39m     metrics,\n\u001b[32m     16\u001b[39m     models,\n\u001b[32m     17\u001b[39m     notebook_utils,\n\u001b[32m     18\u001b[39m     ope,\n\u001b[32m     19\u001b[39m     optimizers,\n\u001b[32m     20\u001b[39m     preprocessing,\n\u001b[32m     21\u001b[39m     tokenizers,\n\u001b[32m     22\u001b[39m     types,\n\u001b[32m     23\u001b[39m )\n\u001b[32m     24\u001b[39m \u001b[38;5;28;01mfrom\u001b[39;00m\u001b[38;5;250m \u001b[39m\u001b[34;01m.\u001b[39;00m\u001b[34;01m_version\u001b[39;00m\u001b[38;5;250m \u001b[39m\u001b[38;5;28;01mimport\u001b[39;00m __version__\n\u001b[32m     25\u001b[39m \u001b[38;5;28;01mfrom\u001b[39;00m\u001b[38;5;250m \u001b[39m\u001b[34;01m.\u001b[39;00m\u001b[34;01mbase\u001b[39;00m\u001b[38;5;250m \u001b[39m\u001b[38;5;28;01mimport\u001b[39;00m load_learnable\n",
      "\u001b[36mFile \u001b[39m\u001b[32m/work/mech-ai-scratch/nitesh/envs/envs/dpc_env/lib/python3.11/site-packages/d3rlpy/algos/__init__.py:1\u001b[39m\n\u001b[32m----> \u001b[39m\u001b[32m1\u001b[39m \u001b[38;5;28;01mfrom\u001b[39;00m\u001b[38;5;250m \u001b[39m\u001b[34;01m.\u001b[39;00m\u001b[34;01mqlearning\u001b[39;00m\u001b[38;5;250m \u001b[39m\u001b[38;5;28;01mimport\u001b[39;00m *\n\u001b[32m      2\u001b[39m \u001b[38;5;28;01mfrom\u001b[39;00m\u001b[38;5;250m \u001b[39m\u001b[34;01m.\u001b[39;00m\u001b[34;01mtransformer\u001b[39;00m\u001b[38;5;250m \u001b[39m\u001b[38;5;28;01mimport\u001b[39;00m *\n\u001b[32m      3\u001b[39m \u001b[38;5;28;01mfrom\u001b[39;00m\u001b[38;5;250m \u001b[39m\u001b[34;01m.\u001b[39;00m\u001b[34;01mutility\u001b[39;00m\u001b[38;5;250m \u001b[39m\u001b[38;5;28;01mimport\u001b[39;00m *\n",
      "\u001b[36mFile \u001b[39m\u001b[32m/work/mech-ai-scratch/nitesh/envs/envs/dpc_env/lib/python3.11/site-packages/d3rlpy/algos/qlearning/__init__.py:1\u001b[39m\n\u001b[32m----> \u001b[39m\u001b[32m1\u001b[39m \u001b[38;5;28;01mfrom\u001b[39;00m\u001b[38;5;250m \u001b[39m\u001b[34;01m.\u001b[39;00m\u001b[34;01mawac\u001b[39;00m\u001b[38;5;250m \u001b[39m\u001b[38;5;28;01mimport\u001b[39;00m *\n\u001b[32m      2\u001b[39m \u001b[38;5;28;01mfrom\u001b[39;00m\u001b[38;5;250m \u001b[39m\u001b[34;01m.\u001b[39;00m\u001b[34;01mbase\u001b[39;00m\u001b[38;5;250m \u001b[39m\u001b[38;5;28;01mimport\u001b[39;00m *\n\u001b[32m      3\u001b[39m \u001b[38;5;28;01mfrom\u001b[39;00m\u001b[38;5;250m \u001b[39m\u001b[34;01m.\u001b[39;00m\u001b[34;01mbc\u001b[39;00m\u001b[38;5;250m \u001b[39m\u001b[38;5;28;01mimport\u001b[39;00m *\n",
      "\u001b[36mFile \u001b[39m\u001b[32m/work/mech-ai-scratch/nitesh/envs/envs/dpc_env/lib/python3.11/site-packages/d3rlpy/algos/qlearning/awac.py:17\u001b[39m\n\u001b[32m     15\u001b[39m \u001b[38;5;28;01mfrom\u001b[39;00m\u001b[38;5;250m \u001b[39m\u001b[34;01m.\u001b[39;00m\u001b[34;01m.\u001b[39;00m\u001b[34;01m.\u001b[39;00m\u001b[34;01mtypes\u001b[39;00m\u001b[38;5;250m \u001b[39m\u001b[38;5;28;01mimport\u001b[39;00m Shape\n\u001b[32m     16\u001b[39m \u001b[38;5;28;01mfrom\u001b[39;00m\u001b[38;5;250m \u001b[39m\u001b[34;01m.\u001b[39;00m\u001b[34;01mbase\u001b[39;00m\u001b[38;5;250m \u001b[39m\u001b[38;5;28;01mimport\u001b[39;00m QLearningAlgoBase\n\u001b[32m---> \u001b[39m\u001b[32m17\u001b[39m \u001b[38;5;28;01mfrom\u001b[39;00m\u001b[38;5;250m \u001b[39m\u001b[34;01m.\u001b[39;00m\u001b[34;01mtorch\u001b[39;00m\u001b[34;01m.\u001b[39;00m\u001b[34;01mawac_impl\u001b[39;00m\u001b[38;5;250m \u001b[39m\u001b[38;5;28;01mimport\u001b[39;00m AWACImpl\n\u001b[32m     18\u001b[39m \u001b[38;5;28;01mfrom\u001b[39;00m\u001b[38;5;250m \u001b[39m\u001b[34;01m.\u001b[39;00m\u001b[34;01mtorch\u001b[39;00m\u001b[34;01m.\u001b[39;00m\u001b[34;01msac_impl\u001b[39;00m\u001b[38;5;250m \u001b[39m\u001b[38;5;28;01mimport\u001b[39;00m SACModules\n\u001b[32m     20\u001b[39m __all__ = [\u001b[33m\"\u001b[39m\u001b[33mAWACConfig\u001b[39m\u001b[33m\"\u001b[39m, \u001b[33m\"\u001b[39m\u001b[33mAWAC\u001b[39m\u001b[33m\"\u001b[39m]\n",
      "\u001b[36mFile \u001b[39m\u001b[32m/work/mech-ai-scratch/nitesh/envs/envs/dpc_env/lib/python3.11/site-packages/d3rlpy/algos/qlearning/torch/__init__.py:12\u001b[39m\n\u001b[32m     10\u001b[39m \u001b[38;5;28;01mfrom\u001b[39;00m\u001b[38;5;250m \u001b[39m\u001b[34;01m.\u001b[39;00m\u001b[34;01miql_impl\u001b[39;00m\u001b[38;5;250m \u001b[39m\u001b[38;5;28;01mimport\u001b[39;00m *\n\u001b[32m     11\u001b[39m \u001b[38;5;28;01mfrom\u001b[39;00m\u001b[38;5;250m \u001b[39m\u001b[34;01m.\u001b[39;00m\u001b[34;01mplas_impl\u001b[39;00m\u001b[38;5;250m \u001b[39m\u001b[38;5;28;01mimport\u001b[39;00m *\n\u001b[32m---> \u001b[39m\u001b[32m12\u001b[39m \u001b[38;5;28;01mfrom\u001b[39;00m\u001b[38;5;250m \u001b[39m\u001b[34;01m.\u001b[39;00m\u001b[34;01mprdc_impl\u001b[39;00m\u001b[38;5;250m \u001b[39m\u001b[38;5;28;01mimport\u001b[39;00m *\n\u001b[32m     13\u001b[39m \u001b[38;5;28;01mfrom\u001b[39;00m\u001b[38;5;250m \u001b[39m\u001b[34;01m.\u001b[39;00m\u001b[34;01mrebrac_impl\u001b[39;00m\u001b[38;5;250m \u001b[39m\u001b[38;5;28;01mimport\u001b[39;00m *\n\u001b[32m     14\u001b[39m \u001b[38;5;28;01mfrom\u001b[39;00m\u001b[38;5;250m \u001b[39m\u001b[34;01m.\u001b[39;00m\u001b[34;01msac_impl\u001b[39;00m\u001b[38;5;250m \u001b[39m\u001b[38;5;28;01mimport\u001b[39;00m *\n",
      "\u001b[36mFile \u001b[39m\u001b[32m/work/mech-ai-scratch/nitesh/envs/envs/dpc_env/lib/python3.11/site-packages/d3rlpy/algos/qlearning/torch/prdc_impl.py:4\u001b[39m\n\u001b[32m      1\u001b[39m \u001b[38;5;28;01mimport\u001b[39;00m\u001b[38;5;250m \u001b[39m\u001b[34;01mdataclasses\u001b[39;00m\n\u001b[32m      3\u001b[39m \u001b[38;5;28;01mimport\u001b[39;00m\u001b[38;5;250m \u001b[39m\u001b[34;01mtorch\u001b[39;00m\n\u001b[32m----> \u001b[39m\u001b[32m4\u001b[39m \u001b[38;5;28;01mfrom\u001b[39;00m\u001b[38;5;250m \u001b[39m\u001b[34;01msklearn\u001b[39;00m\u001b[34;01m.\u001b[39;00m\u001b[34;01mneighbors\u001b[39;00m\u001b[38;5;250m \u001b[39m\u001b[38;5;28;01mimport\u001b[39;00m NearestNeighbors\n\u001b[32m      6\u001b[39m \u001b[38;5;28;01mfrom\u001b[39;00m\u001b[38;5;250m \u001b[39m\u001b[34;01m.\u001b[39;00m\u001b[34;01m.\u001b[39;00m\u001b[34;01m.\u001b[39;00m\u001b[34;01m.\u001b[39;00m\u001b[34;01mmodels\u001b[39;00m\u001b[34;01m.\u001b[39;00m\u001b[34;01mtorch\u001b[39;00m\u001b[38;5;250m \u001b[39m\u001b[38;5;28;01mimport\u001b[39;00m ActionOutput, ContinuousEnsembleQFunctionForwarder\n\u001b[32m      7\u001b[39m \u001b[38;5;28;01mfrom\u001b[39;00m\u001b[38;5;250m \u001b[39m\u001b[34;01m.\u001b[39;00m\u001b[34;01m.\u001b[39;00m\u001b[34;01m.\u001b[39;00m\u001b[34;01m.\u001b[39;00m\u001b[34;01mtorch_utility\u001b[39;00m\u001b[38;5;250m \u001b[39m\u001b[38;5;28;01mimport\u001b[39;00m TorchMiniBatch\n",
      "\u001b[36mFile \u001b[39m\u001b[32m/work/mech-ai-scratch/nitesh/envs/envs/dpc_env/lib/python3.11/site-packages/sklearn/__init__.py:73\u001b[39m\n\u001b[32m     62\u001b[39m \u001b[38;5;66;03m# `_distributor_init` allows distributors to run custom init code.\u001b[39;00m\n\u001b[32m     63\u001b[39m \u001b[38;5;66;03m# For instance, for the Windows wheel, this is used to pre-load the\u001b[39;00m\n\u001b[32m     64\u001b[39m \u001b[38;5;66;03m# vcomp shared library runtime for OpenMP embedded in the sklearn/.libs\u001b[39;00m\n\u001b[32m   (...)\u001b[39m\u001b[32m     67\u001b[39m \u001b[38;5;66;03m# later is linked to the OpenMP runtime to make it possible to introspect\u001b[39;00m\n\u001b[32m     68\u001b[39m \u001b[38;5;66;03m# it and importing it first would fail if the OpenMP dll cannot be found.\u001b[39;00m\n\u001b[32m     69\u001b[39m \u001b[38;5;28;01mfrom\u001b[39;00m\u001b[38;5;250m \u001b[39m\u001b[34;01m.\u001b[39;00m\u001b[38;5;250m \u001b[39m\u001b[38;5;28;01mimport\u001b[39;00m (  \u001b[38;5;66;03m# noqa: F401 E402\u001b[39;00m\n\u001b[32m     70\u001b[39m     __check_build,\n\u001b[32m     71\u001b[39m     _distributor_init,\n\u001b[32m     72\u001b[39m )\n\u001b[32m---> \u001b[39m\u001b[32m73\u001b[39m \u001b[38;5;28;01mfrom\u001b[39;00m\u001b[38;5;250m \u001b[39m\u001b[34;01m.\u001b[39;00m\u001b[34;01mbase\u001b[39;00m\u001b[38;5;250m \u001b[39m\u001b[38;5;28;01mimport\u001b[39;00m clone  \u001b[38;5;66;03m# noqa: E402\u001b[39;00m\n\u001b[32m     74\u001b[39m \u001b[38;5;28;01mfrom\u001b[39;00m\u001b[38;5;250m \u001b[39m\u001b[34;01m.\u001b[39;00m\u001b[34;01mutils\u001b[39;00m\u001b[34;01m.\u001b[39;00m\u001b[34;01m_show_versions\u001b[39;00m\u001b[38;5;250m \u001b[39m\u001b[38;5;28;01mimport\u001b[39;00m show_versions  \u001b[38;5;66;03m# noqa: E402\u001b[39;00m\n\u001b[32m     76\u001b[39m _submodules = [\n\u001b[32m     77\u001b[39m     \u001b[33m\"\u001b[39m\u001b[33mcalibration\u001b[39m\u001b[33m\"\u001b[39m,\n\u001b[32m     78\u001b[39m     \u001b[33m\"\u001b[39m\u001b[33mcluster\u001b[39m\u001b[33m\"\u001b[39m,\n\u001b[32m   (...)\u001b[39m\u001b[32m    114\u001b[39m     \u001b[33m\"\u001b[39m\u001b[33mcompose\u001b[39m\u001b[33m\"\u001b[39m,\n\u001b[32m    115\u001b[39m ]\n",
      "\u001b[36mFile \u001b[39m\u001b[32m/work/mech-ai-scratch/nitesh/envs/envs/dpc_env/lib/python3.11/site-packages/sklearn/base.py:19\u001b[39m\n\u001b[32m     17\u001b[39m \u001b[38;5;28;01mfrom\u001b[39;00m\u001b[38;5;250m \u001b[39m\u001b[34;01m.\u001b[39;00m\u001b[34;01m_config\u001b[39;00m\u001b[38;5;250m \u001b[39m\u001b[38;5;28;01mimport\u001b[39;00m config_context, get_config\n\u001b[32m     18\u001b[39m \u001b[38;5;28;01mfrom\u001b[39;00m\u001b[38;5;250m \u001b[39m\u001b[34;01m.\u001b[39;00m\u001b[34;01mexceptions\u001b[39;00m\u001b[38;5;250m \u001b[39m\u001b[38;5;28;01mimport\u001b[39;00m InconsistentVersionWarning\n\u001b[32m---> \u001b[39m\u001b[32m19\u001b[39m \u001b[38;5;28;01mfrom\u001b[39;00m\u001b[38;5;250m \u001b[39m\u001b[34;01m.\u001b[39;00m\u001b[34;01mutils\u001b[39;00m\u001b[34;01m.\u001b[39;00m\u001b[34;01m_estimator_html_repr\u001b[39;00m\u001b[38;5;250m \u001b[39m\u001b[38;5;28;01mimport\u001b[39;00m _HTMLDocumentationLinkMixin, estimator_html_repr\n\u001b[32m     20\u001b[39m \u001b[38;5;28;01mfrom\u001b[39;00m\u001b[38;5;250m \u001b[39m\u001b[34;01m.\u001b[39;00m\u001b[34;01mutils\u001b[39;00m\u001b[34;01m.\u001b[39;00m\u001b[34;01m_metadata_requests\u001b[39;00m\u001b[38;5;250m \u001b[39m\u001b[38;5;28;01mimport\u001b[39;00m _MetadataRequester, _routing_enabled\n\u001b[32m     21\u001b[39m \u001b[38;5;28;01mfrom\u001b[39;00m\u001b[38;5;250m \u001b[39m\u001b[34;01m.\u001b[39;00m\u001b[34;01mutils\u001b[39;00m\u001b[34;01m.\u001b[39;00m\u001b[34;01m_param_validation\u001b[39;00m\u001b[38;5;250m \u001b[39m\u001b[38;5;28;01mimport\u001b[39;00m validate_parameter_constraints\n",
      "\u001b[36mFile \u001b[39m\u001b[32m/work/mech-ai-scratch/nitesh/envs/envs/dpc_env/lib/python3.11/site-packages/sklearn/utils/__init__.py:15\u001b[39m\n\u001b[32m     13\u001b[39m \u001b[38;5;28;01mfrom\u001b[39;00m\u001b[38;5;250m \u001b[39m\u001b[34;01m.\u001b[39;00m\u001b[38;5;250m \u001b[39m\u001b[38;5;28;01mimport\u001b[39;00m _joblib, metadata_routing\n\u001b[32m     14\u001b[39m \u001b[38;5;28;01mfrom\u001b[39;00m\u001b[38;5;250m \u001b[39m\u001b[34;01m.\u001b[39;00m\u001b[34;01m_bunch\u001b[39;00m\u001b[38;5;250m \u001b[39m\u001b[38;5;28;01mimport\u001b[39;00m Bunch\n\u001b[32m---> \u001b[39m\u001b[32m15\u001b[39m \u001b[38;5;28;01mfrom\u001b[39;00m\u001b[38;5;250m \u001b[39m\u001b[34;01m.\u001b[39;00m\u001b[34;01m_chunking\u001b[39;00m\u001b[38;5;250m \u001b[39m\u001b[38;5;28;01mimport\u001b[39;00m gen_batches, gen_even_slices\n\u001b[32m     16\u001b[39m \u001b[38;5;28;01mfrom\u001b[39;00m\u001b[38;5;250m \u001b[39m\u001b[34;01m.\u001b[39;00m\u001b[34;01m_estimator_html_repr\u001b[39;00m\u001b[38;5;250m \u001b[39m\u001b[38;5;28;01mimport\u001b[39;00m estimator_html_repr\n\u001b[32m     18\u001b[39m \u001b[38;5;66;03m# Make _safe_indexing importable from here for backward compat as this particular\u001b[39;00m\n\u001b[32m     19\u001b[39m \u001b[38;5;66;03m# helper is considered semi-private and typically very useful for third-party\u001b[39;00m\n\u001b[32m     20\u001b[39m \u001b[38;5;66;03m# libraries that want to comply with scikit-learn's estimator API. In particular,\u001b[39;00m\n\u001b[32m     21\u001b[39m \u001b[38;5;66;03m# _safe_indexing was included in our public API documentation despite the leading\u001b[39;00m\n\u001b[32m     22\u001b[39m \u001b[38;5;66;03m# `_` in its name.\u001b[39;00m\n",
      "\u001b[36mFile \u001b[39m\u001b[32m/work/mech-ai-scratch/nitesh/envs/envs/dpc_env/lib/python3.11/site-packages/sklearn/utils/_chunking.py:11\u001b[39m\n\u001b[32m      8\u001b[39m \u001b[38;5;28;01mimport\u001b[39;00m\u001b[38;5;250m \u001b[39m\u001b[34;01mnumpy\u001b[39;00m\u001b[38;5;250m \u001b[39m\u001b[38;5;28;01mas\u001b[39;00m\u001b[38;5;250m \u001b[39m\u001b[34;01mnp\u001b[39;00m\n\u001b[32m     10\u001b[39m \u001b[38;5;28;01mfrom\u001b[39;00m\u001b[38;5;250m \u001b[39m\u001b[34;01m.\u001b[39;00m\u001b[34;01m.\u001b[39;00m\u001b[34;01m_config\u001b[39;00m\u001b[38;5;250m \u001b[39m\u001b[38;5;28;01mimport\u001b[39;00m get_config\n\u001b[32m---> \u001b[39m\u001b[32m11\u001b[39m \u001b[38;5;28;01mfrom\u001b[39;00m\u001b[38;5;250m \u001b[39m\u001b[34;01m.\u001b[39;00m\u001b[34;01m_param_validation\u001b[39;00m\u001b[38;5;250m \u001b[39m\u001b[38;5;28;01mimport\u001b[39;00m Interval, validate_params\n\u001b[32m     14\u001b[39m \u001b[38;5;28;01mdef\u001b[39;00m\u001b[38;5;250m \u001b[39m\u001b[34mchunk_generator\u001b[39m(gen, chunksize):\n\u001b[32m     15\u001b[39m \u001b[38;5;250m    \u001b[39m\u001b[33;03m\"\"\"Chunk generator, ``gen`` into lists of length ``chunksize``. The last\u001b[39;00m\n\u001b[32m     16\u001b[39m \u001b[33;03m    chunk may have a length less than ``chunksize``.\"\"\"\u001b[39;00m\n",
      "\u001b[36mFile \u001b[39m\u001b[32m/work/mech-ai-scratch/nitesh/envs/envs/dpc_env/lib/python3.11/site-packages/sklearn/utils/_param_validation.py:14\u001b[39m\n\u001b[32m     11\u001b[39m \u001b[38;5;28;01mfrom\u001b[39;00m\u001b[38;5;250m \u001b[39m\u001b[34;01mnumbers\u001b[39;00m\u001b[38;5;250m \u001b[39m\u001b[38;5;28;01mimport\u001b[39;00m Integral, Real\n\u001b[32m     13\u001b[39m \u001b[38;5;28;01mimport\u001b[39;00m\u001b[38;5;250m \u001b[39m\u001b[34;01mnumpy\u001b[39;00m\u001b[38;5;250m \u001b[39m\u001b[38;5;28;01mas\u001b[39;00m\u001b[38;5;250m \u001b[39m\u001b[34;01mnp\u001b[39;00m\n\u001b[32m---> \u001b[39m\u001b[32m14\u001b[39m \u001b[38;5;28;01mfrom\u001b[39;00m\u001b[38;5;250m \u001b[39m\u001b[34;01mscipy\u001b[39;00m\u001b[34;01m.\u001b[39;00m\u001b[34;01msparse\u001b[39;00m\u001b[38;5;250m \u001b[39m\u001b[38;5;28;01mimport\u001b[39;00m csr_matrix, issparse\n\u001b[32m     16\u001b[39m \u001b[38;5;28;01mfrom\u001b[39;00m\u001b[38;5;250m \u001b[39m\u001b[34;01m.\u001b[39;00m\u001b[34;01m.\u001b[39;00m\u001b[34;01m_config\u001b[39;00m\u001b[38;5;250m \u001b[39m\u001b[38;5;28;01mimport\u001b[39;00m config_context, get_config\n\u001b[32m     17\u001b[39m \u001b[38;5;28;01mfrom\u001b[39;00m\u001b[38;5;250m \u001b[39m\u001b[34;01m.\u001b[39;00m\u001b[34;01mvalidation\u001b[39;00m\u001b[38;5;250m \u001b[39m\u001b[38;5;28;01mimport\u001b[39;00m _is_arraylike_not_scalar\n",
      "\u001b[36mFile \u001b[39m\u001b[32m/work/mech-ai-scratch/nitesh/envs/envs/dpc_env/lib/python3.11/site-packages/scipy/__init__.py:63\u001b[39m\n\u001b[32m     59\u001b[39m \u001b[38;5;28;01mfrom\u001b[39;00m\u001b[38;5;250m \u001b[39m\u001b[34;01mscipy\u001b[39;00m\u001b[34;01m.\u001b[39;00m\u001b[34;01mversion\u001b[39;00m\u001b[38;5;250m \u001b[39m\u001b[38;5;28;01mimport\u001b[39;00m version \u001b[38;5;28;01mas\u001b[39;00m __version__\n\u001b[32m     62\u001b[39m \u001b[38;5;66;03m# Allow distributors to run custom init code\u001b[39;00m\n\u001b[32m---> \u001b[39m\u001b[32m63\u001b[39m \u001b[38;5;28;01mfrom\u001b[39;00m\u001b[38;5;250m \u001b[39m\u001b[34;01m.\u001b[39;00m\u001b[38;5;250m \u001b[39m\u001b[38;5;28;01mimport\u001b[39;00m _distributor_init\n\u001b[32m     64\u001b[39m \u001b[38;5;28;01mdel\u001b[39;00m _distributor_init\n\u001b[32m     67\u001b[39m \u001b[38;5;28;01mfrom\u001b[39;00m\u001b[38;5;250m \u001b[39m\u001b[34;01mscipy\u001b[39;00m\u001b[34;01m.\u001b[39;00m\u001b[34;01m_lib\u001b[39;00m\u001b[38;5;250m \u001b[39m\u001b[38;5;28;01mimport\u001b[39;00m _pep440\n",
      "\u001b[36mFile \u001b[39m\u001b[32m<frozen importlib._bootstrap>:1176\u001b[39m, in \u001b[36m_find_and_load\u001b[39m\u001b[34m(name, import_)\u001b[39m\n",
      "\u001b[36mFile \u001b[39m\u001b[32m<frozen importlib._bootstrap>:1147\u001b[39m, in \u001b[36m_find_and_load_unlocked\u001b[39m\u001b[34m(name, import_)\u001b[39m\n",
      "\u001b[36mFile \u001b[39m\u001b[32m<frozen importlib._bootstrap>:690\u001b[39m, in \u001b[36m_load_unlocked\u001b[39m\u001b[34m(spec)\u001b[39m\n",
      "\u001b[36mFile \u001b[39m\u001b[32m<frozen importlib._bootstrap_external>:936\u001b[39m, in \u001b[36mexec_module\u001b[39m\u001b[34m(self, module)\u001b[39m\n",
      "\u001b[36mFile \u001b[39m\u001b[32m<frozen importlib._bootstrap_external>:1032\u001b[39m, in \u001b[36mget_code\u001b[39m\u001b[34m(self, fullname)\u001b[39m\n",
      "\u001b[36mFile \u001b[39m\u001b[32m<frozen importlib._bootstrap_external>:1131\u001b[39m, in \u001b[36mget_data\u001b[39m\u001b[34m(self, path)\u001b[39m\n",
      "\u001b[31mKeyboardInterrupt\u001b[39m: "
     ]
    }
   ],
   "source": [
    "import d3rlpy"
   ]
  },
  {
   "cell_type": "code",
   "execution_count": null,
   "id": "b468322d",
   "metadata": {},
   "outputs": [],
   "source": [
    "from d3rlpy.dataset import MDPDataset"
   ]
  },
  {
   "cell_type": "code",
   "execution_count": null,
   "id": "337c5cab",
   "metadata": {},
   "outputs": [],
   "source": [
    "def create_dataset(embeddings, actions, rewards, dones, truncateds):\n",
    "    dataset = MDPDataset(\n",
    "        observations=embeddings,\n",
    "        actions=actions,\n",
    "        rewards=rewards,\n",
    "        terminals=dones,\n",
    "        timeouts=truncateds,\n",
    "        action_space=d3rlpy.constants.ActionSpace.CONTINUOUS,\n",
    "    )\n",
    "    return dataset"
   ]
  },
  {
   "cell_type": "code",
   "execution_count": null,
   "id": "d5763f47",
   "metadata": {},
   "outputs": [],
   "source": [
    "dataset = create_dataset(\n",
    "        embeddings=embedds_sliced,\n",
    "        actions=actions_sliced,\n",
    "        rewards=rewards_sliced,\n",
    "        dones=dones_sliced,\n",
    "        truncateds=truncateds_sliced\n",
    "    )"
   ]
  },
  {
   "cell_type": "code",
   "execution_count": null,
   "id": "1c63ada0",
   "metadata": {},
   "outputs": [],
   "source": [
    "from d3rlpy.algos import DQNConfig, SACConfig, IQLConfig, TD3PlusBCConfig, BCConfig, CQLConfig, DiscreteBCConfig\n",
    "from d3rlpy.preprocessing import ActionScaler, MinMaxActionScaler\n",
    "\n",
    "bc = TD3PlusBCConfig(batch_size=256, action_scaler=MinMaxActionScaler()).create(device=\"cuda:0\")\n",
    "bc.build_with_dataset(dataset)"
   ]
  },
  {
   "cell_type": "code",
   "execution_count": null,
   "id": "0aafe943",
   "metadata": {},
   "outputs": [],
   "source": [
    "bc.fit(\n",
    "    dataset,\n",
    "    n_steps=1000000,\n",
    "    save_interval=10,\n",
    ")"
   ]
  },
  {
   "cell_type": "code",
   "execution_count": null,
   "id": "44847ab0",
   "metadata": {},
   "outputs": [],
   "source": [
    "bc.save_model(\"td3_plus_bc_model_new.pkl\")"
   ]
  },
  {
   "cell_type": "code",
   "execution_count": null,
   "id": "39835e0c",
   "metadata": {},
   "outputs": [],
   "source": []
  }
 ],
 "metadata": {
  "kernelspec": {
   "display_name": "Python 3",
   "language": "python",
   "name": "python3"
  },
  "language_info": {
   "codemirror_mode": {
    "name": "ipython",
    "version": 3
   },
   "file_extension": ".py",
   "mimetype": "text/x-python",
   "name": "python",
   "nbconvert_exporter": "python",
   "pygments_lexer": "ipython3",
   "version": "3.11.11"
  }
 },
 "nbformat": 4,
 "nbformat_minor": 5
}

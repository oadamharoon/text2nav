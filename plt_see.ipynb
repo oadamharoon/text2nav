{
 "cells": [
  {
   "cell_type": "code",
   "execution_count": null,
   "id": "a1696712",
   "metadata": {},
   "outputs": [
    {
     "name": "stderr",
     "output_type": "stream",
     "text": [
      "/tmp/ipykernel_579458/3820449545.py:5: DeprecationWarning: numpy.core.numeric is deprecated and has been renamed to numpy._core.numeric. The numpy._core namespace contains private NumPy internals and its use is discouraged, as NumPy internals can change without warning in any release. In practice, most real-world usage of numpy.core is to access functionality in the public NumPy API. If that is the case, use the public NumPy API. If not, you are using NumPy internals. If you would still like to access an internal attribute, use numpy._core.numeric._frombuffer.\n",
      "  data = pickle.load(f)\n"
     ]
    }
   ],
   "source": [
    "import pickle\n",
    "import h5py\n",
    "\n",
    "with open('IsaacLab/SAC/logs/sb3/Isaac-Jetbot-Direct-v0/2025-04-25_16-46-03/replay_buffer.pkl', 'rb') as f:\n",
    "    data = pickle.load(f)"
   ]
  },
  {
   "cell_type": "code",
   "execution_count": null,
   "id": "90455080",
   "metadata": {},
   "outputs": [],
   "source": [
    "replay_buffer = data"
   ]
  },
  {
   "cell_type": "code",
   "execution_count": null,
   "id": "56b57023",
   "metadata": {},
   "outputs": [
    {
     "name": "stdout",
     "output_type": "stream",
     "text": [
      "✅ Done converting to HDF5!\n"
     ]
    }
   ],
   "source": [
    "# Create an HDF5 file\n",
    "with h5py.File('replay_buffer_converted.h5', 'w') as h5file:\n",
    "    \n",
    "    # Save observations\n",
    "    obs_group = h5file.create_group('observations')\n",
    "    for key, value in replay_buffer.observations.items():\n",
    "        obs_group.create_dataset(key, data=value, compression=\"gzip\")\n",
    "    \n",
    "    # Save next observations\n",
    "    next_obs_group = h5file.create_group('next_observations')\n",
    "    for key, value in replay_buffer.next_observations.items():\n",
    "        next_obs_group.create_dataset(key, data=value, compression=\"gzip\")\n",
    "    \n",
    "    # Save actions, rewards, dones\n",
    "    h5file.create_dataset('actions', data=replay_buffer.actions, compression=\"gzip\")\n",
    "    h5file.create_dataset('rewards', data=replay_buffer.rewards, compression=\"gzip\")\n",
    "    h5file.create_dataset('dones', data=replay_buffer.dones, compression=\"gzip\")\n",
    "\n",
    "print(\"✅ Done converting to HDF5!\")"
   ]
  },
  {
   "cell_type": "code",
   "execution_count": null,
   "id": "9a857a53",
   "metadata": {},
   "outputs": [
    {
     "name": "stderr",
     "output_type": "stream",
     "text": [
      "/home/nitesh/workspace/offline_rl_test/venv/lib/python3.10/site-packages/tqdm/auto.py:21: TqdmWarning: IProgress not found. Please update jupyter and ipywidgets. See https://ipywidgets.readthedocs.io/en/stable/user_install.html\n",
      "  from .autonotebook import tqdm as notebook_tqdm\n"
     ]
    },
    {
     "name": "stdout",
     "output_type": "stream",
     "text": [
      "Downloading cartpole.pkl into d3rlpy_data/cartpole_replay_v1.1.0.h5...\n",
      "\u001b[2m2025-04-26 15:52.32\u001b[0m [\u001b[32m\u001b[1minfo     \u001b[0m] \u001b[1mSignatures have been automatically determined.\u001b[0m \u001b[36maction_signature\u001b[0m=\u001b[35mSignature(dtype=[dtype('int32')], shape=[(1,)])\u001b[0m \u001b[36mobservation_signature\u001b[0m=\u001b[35mSignature(dtype=[dtype('float32')], shape=[(4,)])\u001b[0m \u001b[36mreward_signature\u001b[0m=\u001b[35mSignature(dtype=[dtype('float32')], shape=[(1,)])\u001b[0m\n",
      "\u001b[2m2025-04-26 15:52.32\u001b[0m [\u001b[32m\u001b[1minfo     \u001b[0m] \u001b[1mAction-space has been automatically determined.\u001b[0m \u001b[36maction_space\u001b[0m=\u001b[35m<ActionSpace.DISCRETE: 2>\u001b[0m\n",
      "\u001b[2m2025-04-26 15:52.32\u001b[0m [\u001b[32m\u001b[1minfo     \u001b[0m] \u001b[1mAction size has been automatically determined.\u001b[0m \u001b[36maction_size\u001b[0m=\u001b[35m2\u001b[0m\n"
     ]
    }
   ],
   "source": [
    "import d3rlpy\n",
    "\n",
    "# setup replay CartPole-v0 dataset and environment\n",
    "dataset, env = d3rlpy.datasets.get_dataset(\"cartpole-replay\")"
   ]
  },
  {
   "cell_type": "code",
   "execution_count": 5,
   "id": "6b0c39f6",
   "metadata": {},
   "outputs": [
    {
     "name": "stderr",
     "output_type": "stream",
     "text": [
      "/tmp/ipykernel_599168/3250312434.py:7: DeprecationWarning: numpy.core.numeric is deprecated and has been renamed to numpy._core.numeric. The numpy._core namespace contains private NumPy internals and its use is discouraged, as NumPy internals can change without warning in any release. In practice, most real-world usage of numpy.core is to access functionality in the public NumPy API. If that is the case, use the public NumPy API. If not, you are using NumPy internals. If you would still like to access an internal attribute, use numpy._core.numeric._frombuffer.\n",
      "  sb3_buffer = pickle.load(f)\n"
     ]
    }
   ],
   "source": [
    "import pickle\n",
    "import numpy as np\n",
    "from d3rlpy.dataset import ReplayBuffer, FIFOBuffer, Episode\n",
    "\n",
    "# Load your sb3 replay buffer\n",
    "with open('IsaacLab/SAC/logs/sb3/Isaac-Jetbot-Direct-v0/2025-04-25_16-46-03/replay_buffer.pkl', 'rb') as f:\n",
    "    sb3_buffer = pickle.load(f)"
   ]
  },
  {
   "cell_type": "code",
   "execution_count": null,
   "id": "8ae2faf3",
   "metadata": {},
   "outputs": [],
   "source": [
    "import gym\n",
    "from stable_baselines3.common.buffers import ReplayBuffer\n",
    "\n",
    "from d3rlpy.dataset import MDPDataset\n",
    "\n",
    "\n",
    "def to_mdp_dataset(replay_buffer: ReplayBuffer) -> MDPDataset:\n",
    "    pos = replay_buffer.size()\n",
    "    goal_index = replay_buffer.observations[\"goal_index\"].flatten()\n",
    "    # poses = replay_buffer.observations[\"poses\"].flatten()\n",
    "    rgb = replay_buffer.observations[\"rgb\"].flatten()\n",
    "    \n",
    "    obs = np.concatenate([goal_index, rgb], axis=0)\n",
    "    return MDPDataset(observations=obs[:pos, 0],\n",
    "                      actions=replay_buffer.actions[:pos, 0],\n",
    "                      rewards=replay_buffer.rewards[:pos, 0],\n",
    "                      terminals=replay_buffer.dones[:pos, 0],\n",
    "                      discrete_action=isinstance(replay_buffer.action_space,\n",
    "                                                 gym.spaces.Discrete))\n",
    "\n",
    "\n",
    "def to_sb3_predict(d3rlpy_model):\n",
    "    d3rlpy_model._predict = d3rlpy_model.predict\n",
    "    # patch predict\n",
    "    def sb3_predict(observation, state=None, mask=None, deterministic=True):\n",
    "        if deterministic:\n",
    "            return d3rlpy_model._predict(observation), None\n",
    "        return d3rlpy_model.sample_action(observation), None\n",
    "    d3rlpy_model.predict = sb3_predict\n",
    "    return d3rlpy_model"
   ]
  },
  {
   "cell_type": "code",
   "execution_count": 7,
   "id": "a9da71bf",
   "metadata": {},
   "outputs": [
    {
     "ename": "MemoryError",
     "evalue": "Unable to allocate 146. GiB for an array with shape (19630041600,) and data type float64",
     "output_type": "error",
     "traceback": [
      "\u001b[0;31m---------------------------------------------------------------------------\u001b[0m",
      "\u001b[0;31mMemoryError\u001b[0m                               Traceback (most recent call last)",
      "Cell \u001b[0;32mIn[7], line 1\u001b[0m\n\u001b[0;32m----> 1\u001b[0m mdp_dataset  \u001b[38;5;241m=\u001b[39m \u001b[43mto_mdp_dataset\u001b[49m\u001b[43m(\u001b[49m\u001b[43msb3_buffer\u001b[49m\u001b[43m)\u001b[49m\n",
      "Cell \u001b[0;32mIn[6], line 13\u001b[0m, in \u001b[0;36mto_mdp_dataset\u001b[0;34m(replay_buffer)\u001b[0m\n\u001b[1;32m     10\u001b[0m poses \u001b[38;5;241m=\u001b[39m replay_buffer\u001b[38;5;241m.\u001b[39mobservations[\u001b[38;5;124m\"\u001b[39m\u001b[38;5;124mposes\u001b[39m\u001b[38;5;124m\"\u001b[39m]\u001b[38;5;241m.\u001b[39mflatten()\n\u001b[1;32m     11\u001b[0m rgb \u001b[38;5;241m=\u001b[39m replay_buffer\u001b[38;5;241m.\u001b[39mobservations[\u001b[38;5;124m\"\u001b[39m\u001b[38;5;124mrgb\u001b[39m\u001b[38;5;124m\"\u001b[39m]\u001b[38;5;241m.\u001b[39mflatten()\n\u001b[0;32m---> 13\u001b[0m obs \u001b[38;5;241m=\u001b[39m \u001b[43mnp\u001b[49m\u001b[38;5;241;43m.\u001b[39;49m\u001b[43mconcatenate\u001b[49m\u001b[43m(\u001b[49m\u001b[43m[\u001b[49m\u001b[43mgoal_index\u001b[49m\u001b[43m,\u001b[49m\u001b[43m \u001b[49m\u001b[43mposes\u001b[49m\u001b[43m,\u001b[49m\u001b[43m \u001b[49m\u001b[43mrgb\u001b[49m\u001b[43m]\u001b[49m\u001b[43m,\u001b[49m\u001b[43m \u001b[49m\u001b[43maxis\u001b[49m\u001b[38;5;241;43m=\u001b[39;49m\u001b[38;5;241;43m0\u001b[39;49m\u001b[43m)\u001b[49m\n\u001b[1;32m     14\u001b[0m \u001b[38;5;28;01mreturn\u001b[39;00m MDPDataset(observations\u001b[38;5;241m=\u001b[39mobs[:pos, \u001b[38;5;241m0\u001b[39m],\n\u001b[1;32m     15\u001b[0m                   actions\u001b[38;5;241m=\u001b[39mreplay_buffer\u001b[38;5;241m.\u001b[39mactions[:pos, \u001b[38;5;241m0\u001b[39m],\n\u001b[1;32m     16\u001b[0m                   rewards\u001b[38;5;241m=\u001b[39mreplay_buffer\u001b[38;5;241m.\u001b[39mrewards[:pos, \u001b[38;5;241m0\u001b[39m],\n\u001b[1;32m     17\u001b[0m                   terminals\u001b[38;5;241m=\u001b[39mreplay_buffer\u001b[38;5;241m.\u001b[39mdones[:pos, \u001b[38;5;241m0\u001b[39m],\n\u001b[1;32m     18\u001b[0m                   discrete_action\u001b[38;5;241m=\u001b[39m\u001b[38;5;28misinstance\u001b[39m(replay_buffer\u001b[38;5;241m.\u001b[39maction_space,\n\u001b[1;32m     19\u001b[0m                                              gym\u001b[38;5;241m.\u001b[39mspaces\u001b[38;5;241m.\u001b[39mDiscrete))\n",
      "\u001b[0;31mMemoryError\u001b[0m: Unable to allocate 146. GiB for an array with shape (19630041600,) and data type float64"
     ]
    }
   ],
   "source": [
    "mdp_dataset  = to_mdp_dataset(sb3_buffer)"
   ]
  },
  {
   "cell_type": "code",
   "execution_count": null,
   "id": "35db6ff6",
   "metadata": {},
   "outputs": [],
   "source": []
  }
 ],
 "metadata": {
  "kernelspec": {
   "display_name": "venv",
   "language": "python",
   "name": "python3"
  },
  "language_info": {
   "codemirror_mode": {
    "name": "ipython",
    "version": 3
   },
   "file_extension": ".py",
   "mimetype": "text/x-python",
   "name": "python",
   "nbconvert_exporter": "python",
   "pygments_lexer": "ipython3",
   "version": "3.10.12"
  }
 },
 "nbformat": 4,
 "nbformat_minor": 5
}

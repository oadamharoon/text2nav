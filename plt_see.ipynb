{
 "cells": [
  {
   "cell_type": "code",
   "execution_count": 1,
   "id": "6b0c39f6",
   "metadata": {},
   "outputs": [],
   "source": [
    "import pickle\n",
    "import numpy as np\n",
    "\n",
    "# Load your sb3 replay buffer\n",
    "with open('/home/nitesh/workspace/offline_rl_test/text2nav/IsaacLab/replay_buffer_random_orientation.pkl', 'rb') as f:\n",
    "    sb3_buffer = pickle.load(f)"
   ]
  },
  {
   "cell_type": "code",
   "execution_count": 3,
   "id": "67419470",
   "metadata": {},
   "outputs": [
    {
     "data": {
      "text/plain": [
       "5000"
      ]
     },
     "execution_count": 3,
     "metadata": {},
     "output_type": "execute_result"
    }
   ],
   "source": [
    "len(sb3_buffer)"
   ]
  },
  {
   "cell_type": "code",
   "execution_count": null,
   "id": "b85df20e",
   "metadata": {},
   "outputs": [],
   "source": [
    "rgbs = np.array([item[0] for item in replay_buffer])\n",
    "goal_indices = np.array([item[1] for item in replay_buffer])\n",
    "angles = np.array([item[2] for item in replay_buffer])\n",
    "actions = np.array([item[3] for item in replay_buffer])\n",
    "rewards = np.array([item[4] for item in replay_buffer])\n",
    "dones = np.array([item[5] for item in replay_buffer])\n",
    "truncateds = np.array([item[6] for item in replay_buffer])"
   ]
  },
  {
   "cell_type": "code",
   "execution_count": null,
   "id": "267b911f",
   "metadata": {},
   "outputs": [],
   "source": [
    "observations = np.array(sb3_buffer[0][:, 0, :])\n",
    "actions = np.array(sb3_buffer[1][:, 0, :])\n",
    "rewards = np.array(sb3_buffer[2][:, 0, :])\n",
    "dones = np.array(sb3_buffer[3][:, 0, :])\n",
    "truncated = np.array(sb3_buffer[4][:, 0, :])\n",
    "observations = np.concatenate([observations, rewards], axis=1)"
   ]
  },
  {
   "cell_type": "code",
   "execution_count": null,
   "id": "2a32771d",
   "metadata": {},
   "outputs": [],
   "source": [
    "actions.max(), actions.min()"
   ]
  },
  {
   "cell_type": "code",
   "execution_count": null,
   "id": "84976216",
   "metadata": {},
   "outputs": [],
   "source": [
    "observations.shape, rewards.shape"
   ]
  },
  {
   "cell_type": "code",
   "execution_count": null,
   "id": "0fb8ae78",
   "metadata": {},
   "outputs": [],
   "source": [
    "from d3rlpy.dataset import MDPDataset\n",
    "import d3rlpy"
   ]
  },
  {
   "cell_type": "code",
   "execution_count": null,
   "id": "a9da71bf",
   "metadata": {},
   "outputs": [],
   "source": [
    "mdp_dataset = MDPDataset(observations=observations,\n",
    "                      actions=actions,\n",
    "                      rewards=rewards,\n",
    "                      terminals=dones,\n",
    "                      timeouts=truncated,\n",
    "                      action_space=d3rlpy.constants.ActionSpace.CONTINUOUS\n",
    "                      )\n"
   ]
  },
  {
   "cell_type": "code",
   "execution_count": null,
   "id": "52d6f74a",
   "metadata": {},
   "outputs": [],
   "source": [
    "encoder_factory = d3rlpy.models.VectorEncoderFactory(\n",
    "    hidden_units=[2000, 2000],\n",
    "    activation='relu',\n",
    ")"
   ]
  },
  {
   "cell_type": "code",
   "execution_count": null,
   "id": "35db6ff6",
   "metadata": {},
   "outputs": [],
   "source": [
    "from d3rlpy.algos import DQNConfig, SACConfig, IQLConfig, TD3PlusBCConfig, BCConfig, CQLConfig\n",
    "from d3rlpy.preprocessing import ActionScaler, MinMaxActionScaler\n",
    "\n",
    "iql = TD3PlusBCConfig(action_scaler=MinMaxActionScaler(), actor_encoder_factory=encoder_factory, critic_encoder_factory=encoder_factory).create(device=\"cuda:0\")\n",
    "iql.build_with_dataset(mdp_dataset)"
   ]
  },
  {
   "cell_type": "code",
   "execution_count": null,
   "id": "4253c6d4",
   "metadata": {},
   "outputs": [],
   "source": [
    "iql.get_action_type()"
   ]
  },
  {
   "cell_type": "code",
   "execution_count": null,
   "id": "516c4655",
   "metadata": {},
   "outputs": [],
   "source": [
    "from d3rlpy.metrics import TDErrorEvaluator, DiscountedSumOfAdvantageEvaluator\n",
    "\n",
    "# calculate metrics with training dataset\n",
    "td_error_evaluator = TDErrorEvaluator(episodes=mdp_dataset.episodes)\n",
    "discounted_sum_of_advantage_evaluator = DiscountedSumOfAdvantageEvaluator(episodes=mdp_dataset.episodes)"
   ]
  },
  {
   "cell_type": "code",
   "execution_count": null,
   "id": "413ec421",
   "metadata": {},
   "outputs": [],
   "source": [
    "iql.fit(\n",
    "    mdp_dataset,\n",
    "    n_steps=100000,\n",
    "    save_interval=1000,\n",
    ")"
   ]
  },
  {
   "cell_type": "code",
   "execution_count": null,
   "id": "7150caae",
   "metadata": {},
   "outputs": [],
   "source": [
    "iql.save_model('cql_model_main_v2.pt')"
   ]
  },
  {
   "cell_type": "code",
   "execution_count": 2,
   "id": "b481c085",
   "metadata": {},
   "outputs": [],
   "source": [
    "import d3rlpy\n",
    "import torch\n",
    "from d3rlpy.algos import BCConfig"
   ]
  },
  {
   "cell_type": "code",
   "execution_count": 5,
   "id": "1ecd10c8",
   "metadata": {},
   "outputs": [
    {
     "name": "stdout",
     "output_type": "stream",
     "text": [
      "Device: cuda:0, type is <class 'str'>\n"
     ]
    },
    {
     "name": "stderr",
     "output_type": "stream",
     "text": [
      "/tmp/ipykernel_1260380/208280584.py:4: FutureWarning: You are using `torch.load` with `weights_only=False` (the current default value), which uses the default pickle module implicitly. It is possible to construct malicious pickle data which will execute arbitrary code during unpickling (See https://github.com/pytorch/pytorch/blob/main/SECURITY.md#untrusted-models for more details). In a future release, the default value for `weights_only` will be flipped to `True`. This limits the functions that could be executed during unpickling. Arbitrary objects will no longer be allowed to be loaded via this mode unless they are explicitly allowlisted by the user via `torch.serialization.add_safe_globals`. We recommend you start setting `weights_only=True` for any use case where you don't have full control of the loaded file. Please open an issue on GitHub for any issues related to this experimental feature.\n",
      "  model_data = torch.load(\"/home/nitesh/Downloads/bc_model.pt\")\n"
     ]
    },
    {
     "data": {
      "text/plain": [
       "<All keys matched successfully>"
      ]
     },
     "execution_count": 5,
     "metadata": {},
     "output_type": "execute_result"
    }
   ],
   "source": [
    "bc = BCConfig().create(device=\"cuda:0\")\n",
    "bc.create_impl(observation_shape=(1152,), action_size=2)\n",
    "# bc.load_model(\"/home/nitesh/Downloads/bc_model.pt\")\n",
    "model_data = torch.load(\"/home/nitesh/Downloads/bc_model.pt\")\n",
    "\n",
    "bc._impl.policy.load_state_dict(model_data[\"imitator\"])"
   ]
  },
  {
   "cell_type": "code",
   "execution_count": null,
   "id": "b6f17432",
   "metadata": {},
   "outputs": [],
   "source": []
  }
 ],
 "metadata": {
  "kernelspec": {
   "display_name": "nerfstudio",
   "language": "python",
   "name": "python3"
  },
  "language_info": {
   "codemirror_mode": {
    "name": "ipython",
    "version": 3
   },
   "file_extension": ".py",
   "mimetype": "text/x-python",
   "name": "python",
   "nbconvert_exporter": "python",
   "pygments_lexer": "ipython3",
   "version": "3.8.18"
  }
 },
 "nbformat": 4,
 "nbformat_minor": 5
}

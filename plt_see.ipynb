{
 "cells": [
  {
   "cell_type": "code",
   "execution_count": null,
   "id": "6b0c39f6",
   "metadata": {},
   "outputs": [],
   "source": [
    "import pickle\n",
    "import numpy as np\n",
    "\n",
    "# Load your sb3 replay buffer\n",
    "with open('buffer_with_embedd.pkl', 'rb') as f:\n",
    "    sb3_buffer = pickle.load(f)"
   ]
  },
  {
   "cell_type": "code",
   "execution_count": null,
   "id": "8ae2faf3",
   "metadata": {},
   "outputs": [],
   "source": [
    "import gym\n",
    "from stable_baselines3.common.buffers import ReplayBuffer\n",
    "import d3rlpy\n",
    "from d3rlpy.dataset import MDPDataset\n",
    "\n",
    "def to_mdp_dataset(replay_buffer: ReplayBuffer) -> MDPDataset:\n",
    "    pos = int(replay_buffer.size()/20)\n",
    "    observations = replay_buffer.observations[\"rgb\"]\n",
    "    observations = observations.reshape(-1, *observations.shape[2:])\n",
    "    print(observations.shape)\n",
    "    actions = replay_buffer.actions.reshape(-1)\n",
    "    rewards = replay_buffer.rewards.reshape(-1)\n",
    "    terminals = replay_buffer.dones.reshape(-1)\n",
    "    timeouts = replay_buffer.timeouts.reshape(-1)\n",
    "    # if terminals and timeout are True at he same time, it means the terminals is True and timeout is False\n",
    "    # so we need to set the timeouts to False\n",
    "    timeouts = np.where(terminals, False, timeouts)\n",
    "\n",
    "\n",
    "\n",
    "    return MDPDataset(observations=observations,\n",
    "                      actions=actions,\n",
    "                      rewards=rewards,\n",
    "                      terminals=terminals,\n",
    "                      timeouts=timeouts,\n",
    "                      transition_picker=d3rlpy.dataset.FrameStackTransitionPicker(n_frames=4))"
   ]
  },
  {
   "cell_type": "code",
   "execution_count": null,
   "id": "a9da71bf",
   "metadata": {},
   "outputs": [],
   "source": [
    "mdp_dataset  = to_mdp_dataset(sb3_buffer)"
   ]
  },
  {
   "cell_type": "code",
   "execution_count": null,
   "id": "35db6ff6",
   "metadata": {},
   "outputs": [],
   "source": [
    "from d3rlpy.algos import DQNConfig, SACConfig, IQLConfig\n",
    "\n",
    "sac = IQLConfig().create(device=\"cuda:0\")\n",
    "sac.build_with_dataset(mdp_dataset)"
   ]
  },
  {
   "cell_type": "code",
   "execution_count": null,
   "id": "516c4655",
   "metadata": {},
   "outputs": [],
   "source": [
    "from d3rlpy.metrics import TDErrorEvaluator, DiscountedSumOfAdvantageEvaluator\n",
    "\n",
    "# calculate metrics with training dataset\n",
    "td_error_evaluator = TDErrorEvaluator(episodes=mdp_dataset.episodes)\n",
    "discounted_sum_of_advantage_evaluator = DiscountedSumOfAdvantageEvaluator(episodes=mdp_dataset.episodes)"
   ]
  },
  {
   "cell_type": "code",
   "execution_count": null,
   "id": "413ec421",
   "metadata": {},
   "outputs": [],
   "source": [
    "sac.fit(\n",
    "    mdp_dataset,\n",
    "    n_steps=10000,\n",
    "    evaluators={\n",
    "        'td_error': td_error_evaluator,\n",
    "        'discounted_sum_of_advantage': discounted_sum_of_advantage_evaluator,\n",
    "    },\n",
    ")"
   ]
  },
  {
   "cell_type": "code",
   "execution_count": null,
   "id": "7150caae",
   "metadata": {},
   "outputs": [],
   "source": []
  }
 ],
 "metadata": {
  "kernelspec": {
   "display_name": "Python 3",
   "language": "python",
   "name": "python3"
  },
  "language_info": {
   "codemirror_mode": {
    "name": "ipython",
    "version": 3
   },
   "file_extension": ".py",
   "mimetype": "text/x-python",
   "name": "python",
   "nbconvert_exporter": "python",
   "pygments_lexer": "ipython3",
   "version": "3.11.11"
  }
 },
 "nbformat": 4,
 "nbformat_minor": 5
}

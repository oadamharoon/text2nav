{
 "cells": [
  {
   "cell_type": "code",
   "execution_count": null,
   "execution_count": null,
   "id": "6b0c39f6",
   "metadata": {},
   "outputs": [],
   "outputs": [],
   "source": [
    "import pickle\n",
    "import numpy as np\n",
    "\n",
    "# Load your sb3 replay buffer\n",
    "with open('buffer_with_embedd.pkl', 'rb') as f:\n",
    "    sb3_buffer = pickle.load(f)"
   ]
  },
  {
   "cell_type": "code",
   "execution_count": null,
   "id": "8ae2faf3",
   "metadata": {},
   "outputs": [],
   "source": [
    "from d3rlpy.dataset import MDPDataset\n",
    "import d3rlpy"
   ]
  },
  {
   "cell_type": "code",
   "execution_count": null,
   "id": "a9da71bf",
   "metadata": {},
   "outputs": [],
   "source": [
    "mdp_dataset = MDPDataset(observations=observations,\n",
    "                      actions=actions,\n",
    "                      rewards=rewards,\n",
    "                      terminals=dones,\n",
    "                      timeouts=truncated,\n",
    "                      action_space=d3rlpy.constants.ActionSpace.CONTINUOUS\n",
    "                      )\n"
   ]
  },
  {
   "cell_type": "code",
   "execution_count": null,
   "id": "a9da71bf",
   "metadata": {},
   "outputs": [],
   "outputs": [],
   "source": [
    "encoder_factory = d3rlpy.models.VectorEncoderFactory(\n",
    "    hidden_units=[2000, 2000],\n",
    "    activation='relu',\n",
    ")"
   ]
  },
  {
   "cell_type": "code",
   "execution_count": null,
   "id": "35db6ff6",
   "metadata": {},
   "outputs": [],
   "source": [
    "from d3rlpy.algos import DQNConfig, SACConfig, IQLConfig, TD3PlusBCConfig, BCConfig, CQLConfig\n",
    "from d3rlpy.preprocessing import ActionScaler, MinMaxActionScaler\n",
    "\n",
    "iql = CQLConfig(action_scaler=MinMaxActionScaler(), actor_encoder_factory=encoder_factory, critic_encoder_factory=encoder_factory).create(device=\"cuda:0\")\n",
    "iql.build_with_dataset(mdp_dataset)"
   ]
  },
  {
   "cell_type": "code",
   "execution_count": null,
   "id": "4253c6d4",
   "metadata": {},
   "outputs": [],
   "source": [
    "iql.get_action_type()"
   ]
  },
  {
   "cell_type": "code",
   "execution_count": null,
   "id": "516c4655",
   "metadata": {},
   "outputs": [],
   "source": [
    "from d3rlpy.metrics import TDErrorEvaluator, DiscountedSumOfAdvantageEvaluator\n",
    "\n",
    "# calculate metrics with training dataset\n",
    "td_error_evaluator = TDErrorEvaluator(episodes=mdp_dataset.episodes)\n",
    "discounted_sum_of_advantage_evaluator = DiscountedSumOfAdvantageEvaluator(episodes=mdp_dataset.episodes)"
   ]
  },
  {
   "cell_type": "code",
   "execution_count": null,
   "id": "413ec421",
   "metadata": {},
   "outputs": [],
   "source": [
    "iql.fit(\n",
    "    mdp_dataset,\n",
    "    n_steps=100000,\n",
    "    save_interval=1000,\n",
    ")"
   ]
  },
  {
   "cell_type": "code",
   "execution_count": null,
   "id": "7150caae",
   "metadata": {},
   "outputs": [],
   "source": [
    "iql.save_model('cql_model_main_v2.pt')"
   ]
  },
  {
   "cell_type": "code",
   "execution_count": null,
   "id": "b481c085",
   "metadata": {},
   "outputs": [],
   "source": []
  }
 ],
 "metadata": {
  "kernelspec": {
   "display_name": "Python 3",
   "language": "python",
   "name": "python3"
  },
  "language_info": {
   "codemirror_mode": {
    "name": "ipython",
    "version": 3
   },
   "file_extension": ".py",
   "mimetype": "text/x-python",
   "name": "python",
   "nbconvert_exporter": "python",
   "pygments_lexer": "ipython3",
   "version": "3.11.11"
  }
 },
 "nbformat": 4,
 "nbformat_minor": 5
}
